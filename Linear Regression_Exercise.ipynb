{
 "cells": [
  {
   "cell_type": "markdown",
   "metadata": {},
   "source": [
    "# Linear Regression Exercise"
   ]
  },
  {
   "cell_type": "code",
   "execution_count": 1,
   "metadata": {},
   "outputs": [],
   "source": [
    "import numpy as np\n",
    "import matplotlib.pyplot as plt\n",
    "\n",
    "%matplotlib inline"
   ]
  },
  {
   "cell_type": "code",
   "execution_count": 2,
   "metadata": {
    "collapsed": false,
    "jupyter": {
     "outputs_hidden": false
    }
   },
   "outputs": [],
   "source": [
    "# Generating our data.\n",
    "\n",
    "X = np.linspace(1.0, 10.0, 100)[:, np.newaxis]\n",
    "Y = np.sin(X) + 0.1 * np.power(X, 2) + 0.5 * np.random.randn(100, 1)\n",
    "X /= np.max(X)\n",
    "\n",
    "\n",
    "X = np.hstack((np.ones_like(X), X))"
   ]
  },
  {
   "cell_type": "code",
   "execution_count": 3,
   "metadata": {},
   "outputs": [
    {
     "data": {
      "text/plain": [
       "((100, 2), (100, 1))"
      ]
     },
     "execution_count": 3,
     "metadata": {},
     "output_type": "execute_result"
    }
   ],
   "source": [
    "X.shape, Y.shape"
   ]
  },
  {
   "cell_type": "code",
   "execution_count": 4,
   "metadata": {
    "collapsed": false,
    "jupyter": {
     "outputs_hidden": false
    }
   },
   "outputs": [],
   "source": [
    "order = np.random.permutation(len(X))\n",
    "portion = 20\n",
    "\n",
    "\"\"\"\n",
    "    Split your data into train and test using the order and portion variable\n",
    "\"\"\"\n",
    "train_x = X[order[portion:]]\n",
    "train_y = Y[order[portion:]]\n",
    "\n",
    "test_x = X[order[:portion]] \n",
    "test_y = Y[order[:portion]]"
   ]
  },
  {
   "cell_type": "code",
   "execution_count": 5,
   "metadata": {},
   "outputs": [
    {
     "data": {
      "text/plain": [
       "((80, 2), (80, 1))"
      ]
     },
     "execution_count": 5,
     "metadata": {},
     "output_type": "execute_result"
    }
   ],
   "source": [
    "train_x.shape, train_y.shape"
   ]
  },
  {
   "cell_type": "code",
   "execution_count": 6,
   "metadata": {
    "collapsed": false,
    "jupyter": {
     "outputs_hidden": false
    }
   },
   "outputs": [],
   "source": [
    "def get_gradient(w, x, y):\n",
    "    \"\"\"\n",
    "        Enter code for error, mse and gradient\n",
    "    \"\"\"\n",
    "    y_estimate = x.dot(w).flatten()\n",
    "    error = y.flatten() - y_estimate\n",
    "    mse = (1.0/len(x)) * np.sum(np.square(error))\n",
    "    #mse = np.mean(error**2)\n",
    "    gradient = (-1/len(x))*np.sum(x.T @ error)\n",
    "    #gradient = (-1.0/len(x)) * error*x\n",
    "    return gradient, mse"
   ]
  },
  {
   "cell_type": "code",
   "execution_count": 38,
   "metadata": {},
   "outputs": [
    {
     "name": "stdout",
     "output_type": "stream",
     "text": [
      "Iterations: 100 -Error : 12.9461\n",
      "Iterations: 200 -Error : 12.1245\n",
      "Iterations: 300 -Error : 11.4135\n",
      "Iterations: 400 -Error : 10.7981\n",
      "Iterations: 500 -Error : 10.2656\n",
      "Iterations: 600 -Error : 9.8048\n",
      "Iterations: 700 -Error : 9.4060\n",
      "Iterations: 800 -Error : 9.0609\n",
      "Iterations: 900 -Error : 8.7623\n",
      "Iterations: 1000 -Error : 8.5038\n",
      "Iterations: 1100 -Error : 8.2801\n",
      "Iterations: 1200 -Error : 8.0866\n",
      "Iterations: 1300 -Error : 7.9191\n",
      "Iterations: 1400 -Error : 7.7741\n",
      "Iterations: 1500 -Error : 7.6487\n",
      "Iterations: 1600 -Error : 7.5401\n",
      "Iterations: 1700 -Error : 7.4461\n",
      "Iterations: 1800 -Error : 7.3648\n",
      "Iterations: 1900 -Error : 7.2945\n",
      "Iterations: 2000 -Error : 7.2336\n",
      "Iterations: 2100 -Error : 7.1809\n",
      "Iterations: 2200 -Error : 7.1353\n",
      "Iterations: 2300 -Error : 7.0958\n",
      "Iterations: 2400 -Error : 7.0617\n",
      "Iterations: 2500 -Error : 7.0321\n",
      "Iterations: 2600 -Error : 7.0066\n",
      "Iterations: 2700 -Error : 6.9844\n",
      "Iterations: 2800 -Error : 6.9653\n",
      "Iterations: 2900 -Error : 6.9487\n",
      "Iterations: 3000 -Error : 6.9344\n",
      "Iterations: 3100 -Error : 6.9219\n",
      "Iterations: 3200 -Error : 6.9112\n",
      "Iterations: 3300 -Error : 6.9019\n",
      "Iterations: 3400 -Error : 6.8939\n",
      "Iterations: 3500 -Error : 6.8869\n",
      "Iterations: 3600 -Error : 6.8809\n",
      "Iterations: 3700 -Error : 6.8757\n",
      "Iterations: 3800 -Error : 6.8711\n",
      "Iterations: 3900 -Error : 6.8672\n",
      "Iterations: 4000 -Error : 6.8639\n",
      "Iterations: 4100 -Error : 6.8609\n",
      "Iterations: 4200 -Error : 6.8584\n",
      "Iterations: 4300 -Error : 6.8562\n",
      "Iterations: 4400 -Error : 6.8543\n",
      "Iterations: 4500 -Error : 6.8527\n",
      "Iterations: 4600 -Error : 6.8513\n",
      "Iterations: 4700 -Error : 6.8500\n",
      "Iterations: 4800 -Error : 6.8490\n",
      "Iterations: 4900 -Error : 6.8480\n",
      "Iterations: 5000 -Error : 6.8473\n",
      "Iterations: 5100 -Error : 6.8466\n",
      "Iterations: 5200 -Error : 6.8460\n",
      "Iterations: 5300 -Error : 6.8455\n",
      "Iterations: 5400 -Error : 6.8450\n",
      "Iterations: 5500 -Error : 6.8446\n",
      "Iterations: 5600 -Error : 6.8443\n",
      "Iterations: 5700 -Error : 6.8440\n",
      "Iterations: 5800 -Error : 6.8437\n",
      "Iterations: 5900 -Error : 6.8435\n",
      "Iterations: 6000 -Error : 6.8433\n",
      "Iterations: 6100 -Error : 6.8432\n",
      "Iterations: 6200 -Error : 6.8430\n",
      "Iterations: 6300 -Error : 6.8429\n",
      "Iterations: 6400 -Error : 6.8428\n",
      "Iterations: 6500 -Error : 6.8427\n",
      "Iterations: 6600 -Error : 6.8426\n",
      "Iterations: 6700 -Error : 6.8426\n",
      "Iterations: 6800 -Error : 6.8425\n",
      "Iterations: 6900 -Error : 6.8425\n",
      "Iterations: 7000 -Error : 6.8424\n",
      "Iterations: 7100 -Error : 6.8424\n",
      "Iterations: 7200 -Error : 6.8423\n",
      "Iterations: 7300 -Error : 6.8423\n",
      "Iterations: 7400 -Error : 6.8423\n",
      "Iterations: 7500 -Error : 6.8423\n",
      "Iterations: 7600 -Error : 6.8423\n",
      "Iterations: 7700 -Error : 6.8422\n",
      "Iterations: 7800 -Error : 6.8422\n",
      "Iterations: 7900 -Error : 6.8422\n",
      "Iterations: 8000 -Error : 6.8422\n",
      "Iterations: 8100 -Error : 6.8422\n",
      "Iterations: 8200 -Error : 6.8422\n",
      "Iterations: 8300 -Error : 6.8422\n",
      "Iterations: 8400 -Error : 6.8422\n",
      "Iterations: 8500 -Error : 6.8422\n",
      "Iterations: 8600 -Error : 6.8422\n",
      "Iterations: 8700 -Error : 6.8422\n",
      "Iterations: 8800 -Error : 6.8422\n",
      "Iterations: 8900 -Error : 6.8422\n",
      "Iterations: 9000 -Error : 6.8422\n",
      "Iterations: 9100 -Error : 6.8421\n",
      "Iterations: 9200 -Error : 6.8421\n",
      "Iterations: 9300 -Error : 6.8421\n",
      "Iterations: 9400 -Error : 6.8421\n",
      "Iterations: 9500 -Error : 6.8421\n",
      "Iterations: 9600 -Error : 6.8421\n",
      "Iterations: 9700 -Error : 6.8421\n",
      "Iterations: 9800 -Error : 6.8421\n",
      "Iterations: 9900 -Error : 6.8421\n",
      "Iterations: 10000 -Error : 6.8421\n",
      "Iterations: 10100 -Error : 6.8421\n",
      "Iterations: 10200 -Error : 6.8421\n",
      "Iterations: 10300 -Error : 6.8421\n",
      "Iterations: 10400 -Error : 6.8421\n",
      "Iterations: 10500 -Error : 6.8421\n",
      "Iterations: 10600 -Error : 6.8421\n",
      "Iterations: 10700 -Error : 6.8421\n",
      "Iterations: 10800 -Error : 6.8421\n",
      "Iterations: 10900 -Error : 6.8421\n",
      "Iterations: 11000 -Error : 6.8421\n",
      "Iterations: 11100 -Error : 6.8421\n",
      "Iterations: 11200 -Error : 6.8421\n",
      "Iterations: 11300 -Error : 6.8421\n",
      "Iterations: 11400 -Error : 6.8421\n",
      "Iterations: 11500 -Error : 6.8421\n",
      "Iterations: 11600 -Error : 6.8421\n",
      "Iterations: 11700 -Error : 6.8421\n",
      "Iterations: 11800 -Error : 6.8421\n",
      "Iterations: 11900 -Error : 6.8421\n",
      "Iterations: 12000 -Error : 6.8421\n",
      "Iterations: 12100 -Error : 6.8421\n",
      "Iterations: 12200 -Error : 6.8421\n",
      "Iterations: 12300 -Error : 6.8421\n",
      "Iterations: 12400 -Error : 6.8421\n",
      "Iterations: 12500 -Error : 6.8421\n",
      "Iterations: 12600 -Error : 6.8421\n",
      "Iterations: 12700 -Error : 6.8421\n",
      "Iterations: 12800 -Error : 6.8421\n",
      "Iterations: 12900 -Error : 6.8421\n",
      "Iterations: 13000 -Error : 6.8421\n",
      "Iterations: 13100 -Error : 6.8421\n",
      "Iterations: 13200 -Error : 6.8421\n",
      "Iterations: 13300 -Error : 6.8421\n",
      "Iterations: 13400 -Error : 6.8421\n",
      "Iterations: 13500 -Error : 6.8421\n",
      "Iterations: 13600 -Error : 6.8421\n",
      "Iterations: 13700 -Error : 6.8421\n",
      "Iterations: 13800 -Error : 6.8421\n",
      "Iterations: 13900 -Error : 6.8421\n",
      "w = [2.87112689 2.12163168]\n",
      "Test Cost = 8.432461111539787\n"
     ]
    }
   ],
   "source": [
    "w = np.random.randn(2)\n",
    "alpha = 0.0003\n",
    "\n",
    "\n",
    "\"\"\"\n",
    "    Using the get_gradient function, run the Linear regression\n",
    "    use while loop\n",
    "\"\"\"\n",
    "thresh = 10e-8\n",
    "prev_error=0\n",
    "i = 0\n",
    "while True:\n",
    "    gradient, error = get_gradient(w, train_x, train_y)\n",
    "    new_w = w - alpha*gradient\n",
    "    #if (np.abs(prev_error-error) <= thresh): # comparing loss\n",
    "    if (np.sum(np.abs(w-new_w)) <= thresh): # comparing weight\n",
    "        break\n",
    "    i += 1 \n",
    "    if i% 100 == 0:\n",
    "        print(\"Iterations: %d -Error : %.4f\" %(i, error))\n",
    "        \n",
    "    prev_error = error\n",
    "    w = new_w ## Change to your value\n",
    "    \n",
    "print(\"w =\", w)\n",
    "print( \"Test Cost =\", get_gradient(w, test_x, test_y)[1])"
   ]
  },
  {
   "cell_type": "code",
   "execution_count": 33,
   "metadata": {
    "collapsed": false,
    "jupyter": {
     "outputs_hidden": false
    }
   },
   "outputs": [
    {
     "name": "stdout",
     "output_type": "stream",
     "text": [
      "Iterations: 0 -Error : 26.0971\n",
      "Iterations: 100 -Error : 23.3142\n",
      "Iterations: 200 -Error : 20.9060\n",
      "Iterations: 300 -Error : 18.8219\n",
      "Iterations: 400 -Error : 17.0183\n",
      "Iterations: 500 -Error : 15.4575\n",
      "Iterations: 600 -Error : 14.1068\n",
      "Iterations: 700 -Error : 12.9379\n",
      "Iterations: 800 -Error : 11.9264\n",
      "Iterations: 900 -Error : 11.0510\n",
      "Iterations: 1000 -Error : 10.2934\n",
      "Iterations: 1100 -Error : 9.6379\n",
      "Iterations: 1200 -Error : 9.0705\n",
      "Iterations: 1300 -Error : 8.5795\n",
      "Iterations: 1400 -Error : 8.1547\n",
      "Iterations: 1500 -Error : 7.7870\n",
      "Iterations: 1600 -Error : 7.4688\n",
      "Iterations: 1700 -Error : 7.1934\n",
      "Iterations: 1800 -Error : 6.9551\n",
      "Iterations: 1900 -Error : 6.7489\n",
      "Iterations: 2000 -Error : 6.5704\n",
      "Iterations: 2100 -Error : 6.4160\n",
      "Iterations: 2200 -Error : 6.2823\n",
      "Iterations: 2300 -Error : 6.1666\n",
      "Iterations: 2400 -Error : 6.0665\n",
      "Iterations: 2500 -Error : 5.9799\n",
      "Iterations: 2600 -Error : 5.9050\n",
      "Iterations: 2700 -Error : 5.8401\n",
      "Iterations: 2800 -Error : 5.7839\n",
      "Iterations: 2900 -Error : 5.7354\n",
      "Iterations: 3000 -Error : 5.6933\n",
      "Iterations: 3100 -Error : 5.6569\n",
      "Iterations: 3200 -Error : 5.6254\n",
      "Iterations: 3300 -Error : 5.5982\n",
      "Iterations: 3400 -Error : 5.5746\n",
      "Iterations: 3500 -Error : 5.5542\n",
      "Iterations: 3600 -Error : 5.5366\n",
      "Iterations: 3700 -Error : 5.5213\n",
      "Iterations: 3800 -Error : 5.5080\n",
      "Iterations: 3900 -Error : 5.4966\n",
      "Iterations: 4000 -Error : 5.4867\n",
      "Iterations: 4100 -Error : 5.4781\n",
      "Iterations: 4200 -Error : 5.4707\n",
      "Iterations: 4300 -Error : 5.4643\n",
      "Iterations: 4400 -Error : 5.4587\n",
      "Iterations: 4500 -Error : 5.4539\n",
      "Iterations: 4600 -Error : 5.4498\n",
      "Iterations: 4700 -Error : 5.4462\n",
      "Iterations: 4800 -Error : 5.4430\n",
      "Iterations: 4900 -Error : 5.4404\n",
      "Iterations: 5000 -Error : 5.4380\n",
      "Iterations: 5100 -Error : 5.4360\n",
      "Iterations: 5200 -Error : 5.4343\n",
      "Iterations: 5300 -Error : 5.4327\n",
      "Iterations: 5400 -Error : 5.4314\n",
      "Iterations: 5500 -Error : 5.4303\n",
      "Iterations: 5600 -Error : 5.4293\n",
      "Iterations: 5700 -Error : 5.4285\n",
      "Iterations: 5800 -Error : 5.4277\n",
      "Iterations: 5900 -Error : 5.4271\n",
      "Iterations: 6000 -Error : 5.4266\n",
      "Iterations: 6100 -Error : 5.4261\n",
      "Iterations: 6200 -Error : 5.4257\n",
      "Iterations: 6300 -Error : 5.4253\n",
      "Iterations: 6400 -Error : 5.4250\n",
      "Iterations: 6500 -Error : 5.4247\n",
      "Iterations: 6600 -Error : 5.4245\n",
      "Iterations: 6700 -Error : 5.4243\n",
      "Iterations: 6800 -Error : 5.4241\n",
      "Iterations: 6900 -Error : 5.4240\n",
      "Iterations: 7000 -Error : 5.4238\n",
      "Iterations: 7100 -Error : 5.4237\n",
      "Iterations: 7200 -Error : 5.4236\n",
      "Iterations: 7300 -Error : 5.4236\n",
      "Iterations: 7400 -Error : 5.4235\n",
      "Iterations: 7500 -Error : 5.4234\n",
      "Iterations: 7600 -Error : 5.4234\n",
      "Iterations: 7700 -Error : 5.4233\n",
      "Iterations: 7800 -Error : 5.4233\n",
      "Iterations: 7900 -Error : 5.4232\n",
      "Iterations: 8000 -Error : 5.4232\n",
      "Iterations: 8100 -Error : 5.4232\n",
      "Iterations: 8200 -Error : 5.4232\n",
      "Iterations: 8300 -Error : 5.4231\n",
      "Iterations: 8400 -Error : 5.4231\n",
      "Iterations: 8500 -Error : 5.4231\n",
      "Iterations: 8600 -Error : 5.4231\n",
      "Iterations: 8700 -Error : 5.4231\n",
      "Iterations: 8800 -Error : 5.4231\n",
      "Iterations: 8900 -Error : 5.4231\n",
      "Iterations: 9000 -Error : 5.4231\n",
      "Iterations: 9100 -Error : 5.4231\n",
      "Iterations: 9200 -Error : 5.4231\n",
      "Iterations: 9300 -Error : 5.4230\n",
      "Iterations: 9400 -Error : 5.4230\n",
      "Iterations: 9500 -Error : 5.4230\n",
      "Iterations: 9600 -Error : 5.4230\n",
      "Iterations: 9700 -Error : 5.4230\n",
      "Iterations: 9800 -Error : 5.4230\n",
      "Iterations: 9900 -Error : 5.4230\n",
      "w = [2.1395563  3.39043521]\n",
      "Test Cost = 6.786487816209554\n"
     ]
    }
   ],
   "source": [
    "w = np.random.randn(2)#.reshape(-1,1)\n",
    "alpha = 0.0003\n",
    "\n",
    "\"\"\"\n",
    "    Using the get_gradient function, run the Linear regression\n",
    "    use iteration of 10000\n",
    "\"\"\"\n",
    "for i in range(10000):\n",
    "    gradient, error = get_gradient(w, train_x, train_y)\n",
    "    new_w = w - alpha*gradient\n",
    "    if i% 100 == 0:\n",
    "        print(\"Iterations: %d -Error : %.4f\" %(i, error))\n",
    "        \n",
    "    w = new_w ## Change to your value\n",
    "\n",
    "print(\"w =\", w)\n",
    "print( \"Test Cost =\", get_gradient(w, test_x, test_y)[1])"
   ]
  },
  {
   "cell_type": "markdown",
   "metadata": {},
   "source": [
    "Plotting the Model we obtained"
   ]
  },
  {
   "cell_type": "code",
   "execution_count": 36,
   "metadata": {
    "collapsed": false,
    "jupyter": {
     "outputs_hidden": false
    }
   },
   "outputs": [
    {
     "data": {
      "image/png": "[encoded data removed]",
      "text/plain": [
       "<Figure size 432x288 with 1 Axes>"
      ]
     },
     "metadata": {
      "needs_background": "light"
     },
     "output_type": "display_data"
    }
   ],
   "source": [
    "plt.plot(X[:,1], X.dot(w), c='g', label='Model')\n",
    "plt.scatter(train_x[:,1], train_y, c='b', label='Train Set')\n",
    "plt.scatter(test_x[:,1], test_y, c='r', label='Test Set')\n",
    "plt.grid()\n",
    "plt.legend(loc='best')\n",
    "plt.xlabel('X')\n",
    "plt.ylabel('Y')\n",
    "plt.show()"
   ]
  },
  {
   "cell_type": "markdown",
   "metadata": {},
   "source": [
    "Generate contour plot of the cost function"
   ]
  },
  {
   "cell_type": "code",
   "execution_count": 37,
   "metadata": {
    "collapsed": false,
    "jupyter": {
     "outputs_hidden": false
    }
   },
   "outputs": [
    {
     "name": "stderr",
     "output_type": "stream",
     "text": [
      "/usr/lib/python3/dist-packages/matplotlib/contour.py:1000: UserWarning: The following kwargs were not used by contour: 'label'\n",
      "  s)\n"
     ]
    },
    {
     "data": {
      "image/png": "[encoded data removed]",
      "text/plain": [
       "<Figure size 432x288 with 1 Axes>"
      ]
     },
     "metadata": {
      "needs_background": "light"
     },
     "output_type": "display_data"
    }
   ],
   "source": [
    "w1 = np.linspace(-w[1]*3, w[1]*3, 300)\n",
    "w0 = np.linspace(-w[0]*3, w[0]*3, 300)\n",
    "J_vals = np.zeros(shape=(w1.size, w0.size))\n",
    "\n",
    "for t1, element in enumerate(w1):\n",
    "    for t2, element2 in enumerate(w0):\n",
    "        wT = [0, 0]\n",
    "        wT[1] = element\n",
    "        wT[0] = element2\n",
    "        J_vals[t1, t2] = get_gradient(wT, train_x, train_y)[1]\n",
    "\n",
    "plt.scatter(w[0], w[1], marker='*', color='r', s=40, label='Solution Found')\n",
    "CS = plt.contour(w0, w1, J_vals, np.logspace(-10,10,50), label='Cost Function')\n",
    "plt.clabel(CS, inline=1, fontsize=10)\n",
    "plt.title(\"Contour Plot of Cost Function\")\n",
    "plt.xlabel(\"w0\")\n",
    "plt.ylabel(\"w1\")\n",
    "plt.legend(loc='best')\n",
    "plt.show()"
   ]
  },
  {
   "cell_type": "markdown",
   "metadata": {},
   "source": [
    "Extra Exercises.\n",
    "\n",
    "Describe what you see in the both diagrams you have."
   ]
  }
 ],
 "metadata": {
  "kernelspec": {
   "display_name": "Python 2",
   "language": "python",
   "name": "python2"
  },
  "language_info": {
   "codemirror_mode": {
    "name": "ipython",
    "version": 3
   },
   "file_extension": ".py",
   "mimetype": "text/x-python",
   "name": "python",
   "nbconvert_exporter": "python",
   "pygments_lexer": "ipython3",
   "version": "3.7.3"
  }
 },
 "nbformat": 4,
 "nbformat_minor": 4
}
