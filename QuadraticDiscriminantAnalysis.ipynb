{
 "cells": [
  {
   "cell_type": "markdown",
   "metadata": {},
   "source": [
    "## Gaussian Discriminant Analysis"
   ]
  },
  {
   "cell_type": "markdown",
   "metadata": {},
   "source": [
    "with varying covariance $\\Sigma_1 \\neq \\Sigma_2 \\neq \\Sigma_3 ... \\neq \\Sigma_3$"
   ]
  },
  {
   "cell_type": "code",
   "execution_count": 1,
   "metadata": {},
   "outputs": [],
   "source": [
    "import pandas as pd\n",
    "import numpy as np\n",
    "\n",
    "# To reset the printoptions\n",
    "# np.set_printoptions(edgeitems=3,infstr='inf',linewidth=75, nanstr='nan', precision=8,suppress=False, threshold=1000, formatter=None)\n",
    "\n",
    "np.set_printoptions(precision=4, suppress=True)\n",
    "\n",
    "#np.set_printoptions(formatter={'float': '{: 0.3f}'.format})"
   ]
  },
  {
   "cell_type": "markdown",
   "metadata": {},
   "source": [
    "### For multi-class label y ={0, 1, 2, ...}"
   ]
  },
  {
   "cell_type": "code",
   "execution_count": 2,
   "metadata": {},
   "outputs": [
    {
     "name": "stdout",
     "output_type": "stream",
     "text": [
      "['setosa', 'versicolor', 'virginica']\n"
     ]
    }
   ],
   "source": [
    "from sklearn.datasets import load_iris\n",
    "dataset = load_iris()\n",
    "X = dataset.data\n",
    "y = dataset.target\n",
    "#y=(y>0).astype(int) \n",
    "\n",
    "target_names = list(dataset.target_names)\n",
    "print(target_names)"
   ]
  },
  {
   "cell_type": "code",
   "execution_count": 3,
   "metadata": {},
   "outputs": [],
   "source": [
    "from sklearn.model_selection import train_test_split\n",
    "X_train, X_test, y_train, y_test = train_test_split(X, y)"
   ]
  },
  {
   "cell_type": "code",
   "execution_count": 4,
   "metadata": {},
   "outputs": [
    {
     "data": {
      "text/plain": [
       "((112, 4), (38, 4), (112,), (38,))"
      ]
     },
     "execution_count": 4,
     "metadata": {},
     "output_type": "execute_result"
    }
   ],
   "source": [
    "X_train.shape, X_test.shape, y_train.shape, y_test.shape"
   ]
  },
  {
   "cell_type": "code",
   "execution_count": 5,
   "metadata": {},
   "outputs": [],
   "source": [
    "class GaussianDiscAnalysis: \n",
    "    \"\"\"\n",
    "    Fits a Quadratic Discriminant Analysis Model for multi-class data where covariance for each class are unique.\n",
    "    \n",
    "    lamd : Preconditioner; for matrix inversion; default:1e-10\n",
    "    \"\"\"\n",
    "    def __init__(self, lambd=1e-10):\n",
    "        self.lambd = lambd\n",
    "        \n",
    "    def compute_phi(self, y):\n",
    "        n = len(y)\n",
    "        phi = dict()\n",
    "        for idx in range(len(self.classes)):\n",
    "            phi[idx] = (1/n) * np.sum(y==idx)\n",
    "        return phi\n",
    "    \n",
    "    def compute_mu(self, X, y):\n",
    "        mu_dict = dict()\n",
    "        for idx in range(len(self.classes)):\n",
    "            # Add mu for each class\n",
    "            mu_dict[idx] = np.sum(X[y==idx], axis=0)/ np.sum(y==idx)\n",
    "        return mu_dict\n",
    "\n",
    "    def compute_sigma(self, X, y):\n",
    "        d = X.shape[1]\n",
    "        sigma_dict = dict()\n",
    "        Xmu = X.copy()\n",
    "        for idx in range(len(self.classes)):\n",
    "            n = np.sum(y==idx)\n",
    "            Xmu_i = Xmu[y==idx] - self.mu[idx]\n",
    "            sigma = (1/n) * Xmu_i.T@Xmu_i\n",
    "            sigma_dict[idx] = sigma + self.lambd*np.eye(d,d) # Precondition sigma\n",
    "        return sigma_dict\n",
    "    \n",
    "    \n",
    "    def compute_Pxyi(self, X, idx):\n",
    "        \"\"\"Probability of X given y\"\"\"\n",
    "        m = X.shape[1]\n",
    "        sigma_inv = np.linalg.inv(self.sigma[idx])\n",
    "        det_sigma = np.linalg.det(self.sigma[idx])\n",
    "        #mu_i = mu(X, y, idx)\n",
    "        Pxi = (1/((2*np.pi)**(m/2))) \\\n",
    "                *(1/(det_sigma**0.5)) \\\n",
    "                * np.exp(- 0.5*np.sum(((X-self.mu[idx])@sigma_inv)*(X-self.mu[idx]), axis=1))\n",
    "    #     Pxi = np.log(1) \\\n",
    "    #             - np.log((2*np.pi)**(m/2)) \\\n",
    "    #             - np.log(np.sqrt(det_sigma)) \\\n",
    "    #             - np.sum(((X-mu_i)@sigma_inv)*(X-mu_i), axis=1)\n",
    "        return Pxi\n",
    "    \n",
    "    def fit(self, X, y):\n",
    "        \"\"\"Computes mean, covariance and proabilities of y (phi)\"\"\"\n",
    "        d = X.shape[1]\n",
    "        self.classes = np.unique(y)\n",
    "        self.mu = self.compute_mu(X, y)\n",
    "        self.sigma = self.compute_sigma(X, y)\n",
    "        self.phi = self.compute_phi(y)\n",
    "        \n",
    "    def predict_proba(self, X):\n",
    "        \"\"\"Computes the probability of example belonging to that class\"\"\"\n",
    "        n = len(X)\n",
    "        Pyi = np.zeros((n, len(self.classes)))\n",
    "        \n",
    "        for idx in range(len(self.classes)):\n",
    "            #print(self.compute_Pxyi(X, idx))\n",
    "            py_i = self.compute_Pxyi(X, idx) * self.phi[idx]\n",
    "            Pyi[:, idx] = py_i\n",
    "        return Pyi\n",
    "    \n",
    "    def predict(self, X):\n",
    "        return np.argmax(self.predict_proba(X), axis=1)\n",
    "    \n",
    "    def generate_data(self, class_id, num_samples=1):\n",
    "        \"\"\"Generates new unseen dataset from a normal distribution\n",
    "            given the mean of class and covariance\n",
    "        \"\"\"\n",
    "        mean = self.mu[class_id]\n",
    "        cov = self.sigma[class_id]\n",
    "        return np.random.multivariate_normal(mean, cov, num_samples)"
   ]
  },
  {
   "cell_type": "code",
   "execution_count": 6,
   "metadata": {},
   "outputs": [],
   "source": [
    "GDA = GaussianDiscAnalysis()"
   ]
  },
  {
   "cell_type": "code",
   "execution_count": 7,
   "metadata": {},
   "outputs": [],
   "source": [
    "GDA.fit(X_train, y_train)"
   ]
  },
  {
   "cell_type": "code",
   "execution_count": 8,
   "metadata": {},
   "outputs": [],
   "source": [
    "predictions = GDA.predict(X_test)"
   ]
  },
  {
   "cell_type": "code",
   "execution_count": 9,
   "metadata": {},
   "outputs": [
    {
     "data": {
      "text/plain": [
       "array([1, 1, 1, 2, 2, 2, 1, 2, 2, 2, 0, 1, 0, 0, 1, 2, 1, 0, 1, 0, 1, 2,\n",
       "       1, 0, 1, 2, 0, 0, 2, 1, 1, 2, 2, 2, 0, 1, 2, 0])"
      ]
     },
     "execution_count": 9,
     "metadata": {},
     "output_type": "execute_result"
    }
   ],
   "source": [
    "predictions"
   ]
  },
  {
   "cell_type": "code",
   "execution_count": 10,
   "metadata": {},
   "outputs": [
    {
     "data": {
      "text/plain": [
       "array([[0.    , 0.0939, 0.0282],\n",
       "       [0.    , 0.4907, 0.0013],\n",
       "       [0.    , 0.2521, 0.    ],\n",
       "       [0.    , 0.008 , 0.1905],\n",
       "       [0.    , 0.0004, 0.1725]])"
      ]
     },
     "execution_count": 10,
     "metadata": {},
     "output_type": "execute_result"
    }
   ],
   "source": [
    "GDA.predict_proba(X_test)[0:5]"
   ]
  },
  {
   "cell_type": "code",
   "execution_count": 11,
   "metadata": {},
   "outputs": [
    {
     "data": {
      "text/plain": [
       "0.9210526315789473"
      ]
     },
     "execution_count": 11,
     "metadata": {},
     "output_type": "execute_result"
    }
   ],
   "source": [
    "np.sum(predictions == y_test) / len(y_test)"
   ]
  },
  {
   "cell_type": "markdown",
   "metadata": {},
   "source": [
    "### Generate new data"
   ]
  },
  {
   "cell_type": "code",
   "execution_count": 12,
   "metadata": {},
   "outputs": [],
   "source": [
    "new_data = GDA.generate_data(class_id=1, num_samples=20)"
   ]
  },
  {
   "cell_type": "code",
   "execution_count": 13,
   "metadata": {},
   "outputs": [
    {
     "data": {
      "text/plain": [
       "array([[5.6335, 2.2214, 3.9456, 0.9979],\n",
       "       [6.523 , 3.4725, 4.6979, 1.5124],\n",
       "       [6.3917, 3.2641, 4.8062, 1.5084],\n",
       "       [4.702 , 2.4147, 4.1388, 1.3575],\n",
       "       [6.2298, 2.8071, 4.5052, 1.4973],\n",
       "       [5.8649, 3.0309, 4.4115, 1.3666],\n",
       "       [6.0956, 3.0507, 4.7172, 1.5248],\n",
       "       [5.9547, 2.9497, 4.6106, 1.6344],\n",
       "       [5.749 , 2.5659, 4.0129, 1.117 ],\n",
       "       [4.8475, 2.8935, 3.1269, 1.1904],\n",
       "       [6.1344, 2.6237, 4.2573, 1.2619],\n",
       "       [5.8221, 2.9997, 4.6691, 1.6195],\n",
       "       [6.3808, 2.6025, 4.3131, 1.3017],\n",
       "       [5.6269, 2.8229, 4.3459, 1.4423],\n",
       "       [5.5626, 2.6335, 4.6698, 1.506 ],\n",
       "       [5.6422, 2.7802, 3.8655, 1.2853],\n",
       "       [6.3596, 3.074 , 4.5231, 1.3924],\n",
       "       [5.849 , 2.6853, 3.7337, 1.2429],\n",
       "       [4.9856, 2.5777, 4.1021, 1.3484],\n",
       "       [6.5341, 3.5588, 5.4665, 1.8618]])"
      ]
     },
     "execution_count": 13,
     "metadata": {},
     "output_type": "execute_result"
    }
   ],
   "source": [
    "new_data"
   ]
  },
  {
   "cell_type": "code",
   "execution_count": 14,
   "metadata": {},
   "outputs": [
    {
     "data": {
      "text/plain": [
       "array([1, 1, 1, 1, 1, 1, 1, 1, 1, 1, 1, 1, 1, 1, 1, 1, 1, 1, 1, 2])"
      ]
     },
     "execution_count": 14,
     "metadata": {},
     "output_type": "execute_result"
    }
   ],
   "source": [
    "GDA.predict(new_data)"
   ]
  },
  {
   "cell_type": "code",
   "execution_count": null,
   "metadata": {},
   "outputs": [],
   "source": []
  }
 ],
 "metadata": {
  "kernelspec": {
   "display_name": "Python 3",
   "language": "python",
   "name": "python3"
  },
  "language_info": {
   "codemirror_mode": {
    "name": "ipython",
    "version": 3
   },
   "file_extension": ".py",
   "mimetype": "text/x-python",
   "name": "python",
   "nbconvert_exporter": "python",
   "pygments_lexer": "ipython3",
   "version": "3.7.3"
  }
 },
 "nbformat": 4,
 "nbformat_minor": 4
}
