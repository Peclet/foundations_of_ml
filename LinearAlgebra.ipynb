{
 "cells": [
  {
   "cell_type": "code",
   "execution_count": 96,
   "metadata": {},
   "outputs": [],
   "source": [
    "import math\n",
    "\n",
    "\"\"\"\n",
    "    This exercisises is used to test understanding of Vectors. YOU are NOT to use any Numpy\n",
    "    implementation for this exercises. \n",
    "\"\"\"\n",
    "\n",
    "class Vector(object):\n",
    "    \"\"\"\n",
    "        This class represents a vector of arbitrary size.\n",
    "        You need to give the vector components. \n",
    "    \"\"\"\n",
    "\n",
    "    def __init__(self, components=None):\n",
    "        \"\"\"\n",
    "            input: components or nothing\n",
    "            simple constructor for init the vector\n",
    "        \"\"\"\n",
    "        if components is None:\n",
    "            components = []\n",
    "        self.__components = list(components)\n",
    "\n",
    "\n",
    "    def component(self, i):\n",
    "        \"\"\"\n",
    "            input: index (start at 0)\n",
    "            output: the i-th component of the vector.\n",
    "        \"\"\"\n",
    "        if type(i) is int and -len(self.__components) <= i < len(self.__components):\n",
    "            return self.__components[i]\n",
    "        else:\n",
    "            raise Exception(\"index out of range\")\n",
    "\n",
    "    def __len__(self):\n",
    "        \"\"\"\n",
    "            returns the size of the vector\n",
    "        \"\"\"\n",
    "        return len(self.__components)\n",
    "\n",
    "    def modulus(self):\n",
    "        \"\"\"\n",
    "            returns the euclidean length of the vector\n",
    "        \"\"\"\n",
    "        summe = 0\n",
    "        ## BEGIN SOLUTION\n",
    "        for component in self.__components:\n",
    "            summe+=component**2\n",
    "        return math.sqrt(summe) ## EDIT THIS\n",
    "        ## END SOLUTION\n",
    "\n",
    "    def add(self, other):\n",
    "        \"\"\"\n",
    "            input: other vector\n",
    "            assumes: other vector has the same size\n",
    "            returns a new vector that represents the sum.\n",
    "        \"\"\"\n",
    "        size = len(self)\n",
    "        if size == len(other):\n",
    "            ## BEGIN SOUTION\n",
    "            new_arr = list()\n",
    "            for idx, component in enumerate(self.__components):\n",
    "                new_arr.append(component + other.component(idx))\n",
    "            return Vector(new_arr) ## EDIT THIS\n",
    "            ## END SOLUTION\n",
    "        else:\n",
    "            raise Exception(\"must have the same size\")\n",
    "\n",
    "    def sub(self, other):\n",
    "        \"\"\"\n",
    "            input: other vector\n",
    "            assumes: other vector has the same size\n",
    "            returns a new vector that represents the difference.\n",
    "        \"\"\"\n",
    "        size = len(self)\n",
    "        if size == len(other):\n",
    "            ## BEGIN SOUTION\n",
    "            new_arr = []\n",
    "            for idx, component in enumerate(self.__components):\n",
    "                new_arr.append(component - other.component(idx))\n",
    "            return Vector(new_arr)  ## EDIT THIS\n",
    "            ## END SOLUTION\n",
    "        else:  # error case\n",
    "            raise Exception(\"must have the same size\")\n",
    "\n",
    "    def multiply(self, other):\n",
    "        \"\"\"\n",
    "            multiply implements the scalar multiplication \n",
    "            and the dot-product\n",
    "        \"\"\"\n",
    "        if isinstance(other, float) or isinstance(other, int): #scalar multiplicatioj\n",
    "            ## BEGIN SOLUTION\n",
    "            new_arr = [other*component for component in self.__components ]\n",
    "            return Vector(new_arr) ## EDIT THIS\n",
    "            ## END SOLUTION\n",
    "        elif isinstance(other, Vector) and (len(self) == len(other)): # dot product\n",
    "            size = len(self)\n",
    "            summe = 0\n",
    "            ## BEGIN SOLUTION\n",
    "            for idx, component in enumerate(self.__components):\n",
    "                summe += component*other.component(idx)\n",
    "            return summe\n",
    "            ## END SOLUTION\n",
    "        else:  # error case\n",
    "            raise Exception(\"invalid operand!\")\n",
    "\n",
    "    \n",
    "    def scalar_proj(self, other):\n",
    "        \"\"\" \n",
    "            Computes the scalar projection of vector r on s.\n",
    "        \"\"\"\n",
    "\n",
    "        ### BEGIN SOLUTION\n",
    "        scalar_projection = self.multiply(other) / self.modulus()\n",
    "        return scalar_projection ## EDIT THIS\n",
    "        ### END SOLUTION\n",
    "        \n",
    "    def vector_proj(self, other):\n",
    "        \"\"\" \n",
    "            Computes the vector projection of vector r on s.\n",
    "            use the other functions created above.\n",
    "        \"\"\"\n",
    "    \n",
    "        ### BEGIN SOLUTION\n",
    "        sp = self.scalar_proj(other) / self.modulus()\n",
    "        vector_projection =  self.multiply(sp)\n",
    "        return vector_projection ## EDIT THIS\n",
    "        ### END SOLUTION"
   ]
  },
  {
   "cell_type": "code",
   "execution_count": 97,
   "metadata": {},
   "outputs": [],
   "source": [
    "a = Vector([1, 2, 4])"
   ]
  },
  {
   "cell_type": "code",
   "execution_count": 98,
   "metadata": {},
   "outputs": [
    {
     "data": {
      "text/plain": [
       "4"
      ]
     },
     "execution_count": 98,
     "metadata": {},
     "output_type": "execute_result"
    }
   ],
   "source": [
    "a.component(2)"
   ]
  },
  {
   "cell_type": "code",
   "execution_count": 99,
   "metadata": {},
   "outputs": [
    {
     "data": {
      "text/plain": [
       "4.58257569495584"
      ]
     },
     "execution_count": 99,
     "metadata": {},
     "output_type": "execute_result"
    }
   ],
   "source": [
    "a.modulus()"
   ]
  },
  {
   "cell_type": "code",
   "execution_count": 100,
   "metadata": {},
   "outputs": [],
   "source": [
    "b = Vector([2, 5, 6])"
   ]
  },
  {
   "cell_type": "code",
   "execution_count": 101,
   "metadata": {},
   "outputs": [
    {
     "data": {
      "text/plain": [
       "<__main__.Vector at 0x7f889822d860>"
      ]
     },
     "execution_count": 101,
     "metadata": {},
     "output_type": "execute_result"
    }
   ],
   "source": [
    "a.add(b)"
   ]
  },
  {
   "cell_type": "code",
   "execution_count": null,
   "metadata": {},
   "outputs": [],
   "source": []
  },
  {
   "cell_type": "code",
   "execution_count": 102,
   "metadata": {},
   "outputs": [
    {
     "data": {
      "text/plain": [
       "<__main__.Vector at 0x7f88981fc438>"
      ]
     },
     "execution_count": 102,
     "metadata": {},
     "output_type": "execute_result"
    }
   ],
   "source": [
    "a.sub(b)"
   ]
  },
  {
   "cell_type": "code",
   "execution_count": 103,
   "metadata": {},
   "outputs": [
    {
     "data": {
      "text/plain": [
       "<__main__.Vector at 0x7f88981fc7f0>"
      ]
     },
     "execution_count": 103,
     "metadata": {},
     "output_type": "execute_result"
    }
   ],
   "source": [
    "a.multiply(5)"
   ]
  },
  {
   "cell_type": "code",
   "execution_count": 104,
   "metadata": {},
   "outputs": [
    {
     "data": {
      "text/plain": [
       "36"
      ]
     },
     "execution_count": 104,
     "metadata": {},
     "output_type": "execute_result"
    }
   ],
   "source": [
    "a.multiply(b)"
   ]
  },
  {
   "cell_type": "code",
   "execution_count": 105,
   "metadata": {},
   "outputs": [
    {
     "data": {
      "text/plain": [
       "7.855844048495726"
      ]
     },
     "execution_count": 105,
     "metadata": {},
     "output_type": "execute_result"
    }
   ],
   "source": [
    "a.scalar_proj(b)"
   ]
  },
  {
   "cell_type": "code",
   "execution_count": 106,
   "metadata": {},
   "outputs": [
    {
     "data": {
      "text/plain": [
       "<__main__.Vector at 0x7f88981dd160>"
      ]
     },
     "execution_count": 106,
     "metadata": {},
     "output_type": "execute_result"
    }
   ],
   "source": [
    "a.vector_proj(b)"
   ]
  },
  {
   "cell_type": "code",
   "execution_count": null,
   "metadata": {},
   "outputs": [],
   "source": []
  },
  {
   "cell_type": "code",
   "execution_count": null,
   "metadata": {},
   "outputs": [],
   "source": []
  },
  {
   "cell_type": "code",
   "execution_count": null,
   "metadata": {},
   "outputs": [],
   "source": []
  },
  {
   "cell_type": "code",
   "execution_count": null,
   "metadata": {},
   "outputs": [],
   "source": []
  }
 ],
 "metadata": {
  "kernelspec": {
   "display_name": "Python 3",
   "language": "python",
   "name": "python3"
  },
  "language_info": {
   "codemirror_mode": {
    "name": "ipython",
    "version": 3
   },
   "file_extension": ".py",
   "mimetype": "text/x-python",
   "name": "python",
   "nbconvert_exporter": "python",
   "pygments_lexer": "ipython3",
   "version": "3.7.3"
  }
 },
 "nbformat": 4,
 "nbformat_minor": 4
}
