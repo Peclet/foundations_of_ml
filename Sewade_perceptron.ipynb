{
 "cells": [
  {
   "cell_type": "code",
   "execution_count": 19,
   "metadata": {},
   "outputs": [],
   "source": [
    "import random as rd\n",
    "import numpy as np\n",
    "import seaborn as sns\n",
    "import pandas as pd"
   ]
  },
  {
   "cell_type": "code",
   "execution_count": 20,
   "metadata": {},
   "outputs": [],
   "source": [
    "mu1 = -1\n",
    "mu2 = 3\n",
    "sig1 = 0.5\n",
    "sig2 = 1\n",
    "N = 100\n",
    "np.random.seed(10)\n",
    "x11=np.random.randn(N,1)*sig1 + mu1\n",
    "x12=np.random.randn(N,1)*sig1 + mu1+3\n",
    "x21=np.random.randn(N,1)*sig2 + mu2\n",
    "x22=np.random.randn(N,1)*sig2 + mu2+3\n",
    "c = np.vstack((-np.ones((N,1)), np.ones((N,1))))\n",
    "x1 = np.hstack((x11,x12))\n",
    "x2 = np.hstack((x21,x22))\n",
    "\n",
    "X = np.hstack( (np.vstack( (x1,x2) ),c) )\n",
    "np.random.shuffle(X)\n",
    "dataset = pd.DataFrame(data=X, columns=['x','y','c'])"
   ]
  },
  {
   "cell_type": "code",
   "execution_count": 21,
   "metadata": {},
   "outputs": [
    {
     "data": {
      "text/html": [
       "<div>\n",
       "<style scoped>\n",
       "    .dataframe tbody tr th:only-of-type {\n",
       "        vertical-align: middle;\n",
       "    }\n",
       "\n",
       "    .dataframe tbody tr th {\n",
       "        vertical-align: top;\n",
       "    }\n",
       "\n",
       "    .dataframe thead th {\n",
       "        text-align: right;\n",
       "    }\n",
       "</style>\n",
       "<table border=\"1\" class=\"dataframe\">\n",
       "  <thead>\n",
       "    <tr style=\"text-align: right;\">\n",
       "      <th></th>\n",
       "      <th>x</th>\n",
       "      <th>y</th>\n",
       "      <th>c</th>\n",
       "    </tr>\n",
       "  </thead>\n",
       "  <tbody>\n",
       "    <tr>\n",
       "      <th>0</th>\n",
       "      <td>-0.334207</td>\n",
       "      <td>2.058738</td>\n",
       "      <td>-1.0</td>\n",
       "    </tr>\n",
       "    <tr>\n",
       "      <th>1</th>\n",
       "      <td>3.264395</td>\n",
       "      <td>5.636814</td>\n",
       "      <td>1.0</td>\n",
       "    </tr>\n",
       "    <tr>\n",
       "      <th>2</th>\n",
       "      <td>-0.669884</td>\n",
       "      <td>1.856185</td>\n",
       "      <td>-1.0</td>\n",
       "    </tr>\n",
       "    <tr>\n",
       "      <th>3</th>\n",
       "      <td>1.995284</td>\n",
       "      <td>4.484924</td>\n",
       "      <td>1.0</td>\n",
       "    </tr>\n",
       "    <tr>\n",
       "      <th>4</th>\n",
       "      <td>3.588041</td>\n",
       "      <td>4.739172</td>\n",
       "      <td>1.0</td>\n",
       "    </tr>\n",
       "  </tbody>\n",
       "</table>\n",
       "</div>"
      ],
      "text/plain": [
       "          x         y    c\n",
       "0 -0.334207  2.058738 -1.0\n",
       "1  3.264395  5.636814  1.0\n",
       "2 -0.669884  1.856185 -1.0\n",
       "3  1.995284  4.484924  1.0\n",
       "4  3.588041  4.739172  1.0"
      ]
     },
     "execution_count": 21,
     "metadata": {},
     "output_type": "execute_result"
    }
   ],
   "source": [
    "dataset.head()"
   ]
  },
  {
   "cell_type": "code",
   "execution_count": 23,
   "metadata": {},
   "outputs": [],
   "source": [
    "dataset['cluster'] = dataset['c'].replace({1:\"cluster A\", -1: \"cluster B\"})"
   ]
  },
  {
   "cell_type": "code",
   "execution_count": 24,
   "metadata": {},
   "outputs": [
    {
     "data": {
      "text/plain": [
       "cluster A    100\n",
       "cluster B    100\n",
       "Name: cluster, dtype: int64"
      ]
     },
     "execution_count": 24,
     "metadata": {},
     "output_type": "execute_result"
    }
   ],
   "source": [
    "dataset.cluster.value_counts()"
   ]
  },
  {
   "cell_type": "code",
   "execution_count": 25,
   "metadata": {},
   "outputs": [
    {
     "data": {
      "text/plain": [
       "<matplotlib.axes._subplots.AxesSubplot at 0x7f697f24d320>"
      ]
     },
     "execution_count": 25,
     "metadata": {},
     "output_type": "execute_result"
    },
    {
     "data": {
      "image/png": "[encoded data removed]",
      "text/plain": [
       "<Figure size 432x288 with 1 Axes>"
      ]
     },
     "metadata": {
      "needs_background": "light"
     },
     "output_type": "display_data"
    }
   ],
   "source": [
    "sns.scatterplot('x', 'y', hue='cluster', data=dataset)"
   ]
  },
  {
   "cell_type": "markdown",
   "metadata": {},
   "source": [
    "Pseudo Code\n",
    "\n",
    "Select k points"
   ]
  },
  {
   "cell_type": "code",
   "execution_count": 32,
   "metadata": {},
   "outputs": [],
   "source": [
    "X = dataset[[\"x\", \"y\"]]\n",
    "y = dataset[\"c\"]"
   ]
  },
  {
   "cell_type": "code",
   "execution_count": 268,
   "metadata": {},
   "outputs": [],
   "source": [
    "class Perceptron:\n",
    "    def __init__(self, iters=100, lambda_=0.1, tolerance=10e-5):\n",
    "        self.iters = iters\n",
    "        self.tolerance = tolerance\n",
    "        self.lambda_ = lambda_ # Regularization parameter to reduce weight values\n",
    "    \n",
    "    def __compute_grad(self, idx):\n",
    "        self.grad = -1*self.X.T@(idx*self.y)\n",
    "        return self.grad\n",
    "        \n",
    "    def __update_weights(self, grad):\n",
    "        self.w = self.w - self.lambda_*grad\n",
    "        return self.w\n",
    "        \n",
    "    def fit(self, X, y):\n",
    "        self.X = np.hstack((np.ones(X.shape[0]).reshape(-1,1), X.values))\n",
    "        self.y = y.values.reshape(-1,1)\n",
    "        # Intialize weights, w as (num_of_features X 1)\n",
    "        self.w = np.zeros((self.X.shape[-1], 1))\n",
    "        for i in range(self.iters):\n",
    "            # Compute predictions\n",
    "            self.y_hat = np.sign(self.X @ self.w)\n",
    "            #Find the set of miscalssified indices\n",
    "            idx = (self.y != self.y_hat)\n",
    "            grad = self.__compute_grad(idx)\n",
    "            old_w = self.w.copy()\n",
    "            new_w = self.__update_weights(grad)\n",
    "            if np.sum(np.abs(old_w - new_w)) <= self.tolerance:\n",
    "                break\n",
    "                \n",
    "    def predict(self, X):\n",
    "        X_biased = np.hstack((np.ones(X.shape[0]).reshape(-1,1), X.values))\n",
    "        return np.sign(X_biased @ self.w)\n",
    "    \n",
    "    def weights(self):\n",
    "        return self.w\n",
    "            "
   ]
  },
  {
   "cell_type": "code",
   "execution_count": 269,
   "metadata": {},
   "outputs": [],
   "source": [
    "pcp = Perceptron()"
   ]
  },
  {
   "cell_type": "code",
   "execution_count": 270,
   "metadata": {},
   "outputs": [],
   "source": [
    "pcp.fit(X, y)"
   ]
  },
  {
   "cell_type": "code",
   "execution_count": 271,
   "metadata": {},
   "outputs": [],
   "source": [
    "predictions = pcp.predict(X)"
   ]
  },
  {
   "cell_type": "code",
   "execution_count": 272,
   "metadata": {},
   "outputs": [
    {
     "data": {
      "text/plain": [
       "array([[-17.5       ],\n",
       "       [ 48.40260151],\n",
       "       [  2.50916963]])"
      ]
     },
     "execution_count": 272,
     "metadata": {},
     "output_type": "execute_result"
    }
   ],
   "source": [
    "pcp.weights()"
   ]
  },
  {
   "cell_type": "code",
   "execution_count": 273,
   "metadata": {},
   "outputs": [
    {
     "data": {
      "text/plain": [
       "1.0"
      ]
     },
     "execution_count": 273,
     "metadata": {},
     "output_type": "execute_result"
    }
   ],
   "source": [
    "accuracy = np.sum(y == predictions.flatten())/len(y)\n",
    "accuracy"
   ]
  }
 ],
 "metadata": {
  "kernelspec": {
   "display_name": "Python 3",
   "language": "python",
   "name": "python3"
  },
  "language_info": {
   "codemirror_mode": {
    "name": "ipython",
    "version": 3
   },
   "file_extension": ".py",
   "mimetype": "text/x-python",
   "name": "python",
   "nbconvert_exporter": "python",
   "pygments_lexer": "ipython3",
   "version": "3.7.3"
  }
 },
 "nbformat": 4,
 "nbformat_minor": 4
}
