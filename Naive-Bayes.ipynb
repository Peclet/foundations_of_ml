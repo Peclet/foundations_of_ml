{
 "cells": [
  {
   "cell_type": "markdown",
   "metadata": {},
   "source": [
    "### Naive-Bayes Model"
   ]
  },
  {
   "cell_type": "code",
   "execution_count": 1,
   "metadata": {},
   "outputs": [],
   "source": [
    "import numpy as np\n",
    "import pandas as pd\n",
    "\n",
    "np.set_printoptions(precision=4, suppress=True)"
   ]
  },
  {
   "cell_type": "code",
   "execution_count": 32,
   "metadata": {},
   "outputs": [],
   "source": [
    "np.random.seed(4)\n",
    "\n",
    "data = np.random.rand(10,11)\n",
    "data = np.round(data, decimals=0)\n",
    "X = data[:, :-1]\n",
    "y = data[:, -1]"
   ]
  },
  {
   "cell_type": "code",
   "execution_count": 33,
   "metadata": {},
   "outputs": [
    {
     "data": {
      "text/plain": [
       "((10, 10), (10,))"
      ]
     },
     "execution_count": 33,
     "metadata": {},
     "output_type": "execute_result"
    }
   ],
   "source": [
    "X.shape, y.shape"
   ]
  },
  {
   "cell_type": "markdown",
   "metadata": {},
   "source": [
    "class Naive_Bayes:\n",
    "    def compute_Px1y1(self, X, y):\n",
    "        d = X.shape[1]\n",
    "        return (1/(np.sum(y==1))) * np.sum(np.sum(X[y==1], axis=1) == d)\n",
    "    \n",
    "    def compute_Px1y0(self, X, y):\n",
    "        d = X.shape[1]\n",
    "        return (1/(np.sum(y==0))) * np.sum(np.sum(X[y==0], axis=1) == d)\n",
    "    \n",
    "    def compute_Px0y0(self, X, y):\n",
    "        return (1/(np.sum(y==0))) * np.sum(np.sum(X[y==0], axis=1) == 0)\n",
    "    \n",
    "    def compute_Px0y1(self, X, y):\n",
    "        return (1/(np.sum(y==1))) * np.sum(np.sum(X[y==1], axis=1) == 0)\n",
    "    \n",
    "    def compute_Py1(self, y):\n",
    "        n = len(y)\n",
    "        return (1/n) * np.sum(y==1)\n",
    "    \n",
    "    #def compute_Pxy(self, X, idx):\n",
    "        #return np.power(self.phi, \n",
    "    \n",
    "    def fit(self, X, y):\n",
    "        d = X.shape[1]\n",
    "        self.Phix1y1 = self.compute_Px1y1(X, y)\n",
    "        self.Phix1y0 = self.compute_Px1y0(X, y)\n",
    "        self.Phix0y0 =  self.compute_Px0y0(X, y)\n",
    "        self.Phix0y1 =  self.compute_Px0y0(X, y)\n",
    "        self.Phiy1 = self.compute_Py1(y)\n",
    "        self.Phiy0 = 1 - self.Phiy1\n",
    "\n",
    "    def predict_proba(self, X):\n",
    "        Pxy1 = (self.Phix1y1 + self.Phix0y1)\n",
    "        Pxy0 = (self.Phix1y0 + self.Phix0y0)\n",
    "        \n",
    "        Pxy_0 = np.power(Pxy0, X)*np.power((1-Pxy0), (1-X))\n",
    "        Pxy_0 = np.sum(Pxy_0, axis = 1)\n",
    "        Py0 = Pxy_0 * self.Phiy0\n",
    "        Py0 = Py0.reshape(-1, 1)\n",
    "        \n",
    "        Pxy_1 = np.power(Pxy1, X)*np.power((1-Pxy1), (1-X))\n",
    "        Pxy_1 = np.sum(Pxy_1, axis = 1)\n",
    "        Py1 = Pxy_1 * self.Phiy1\n",
    "        Py1 = Py1.reshape(-1, 1)\n",
    "                        \n",
    "        return np.concatenate((Py0, Py1), axis=1)\n",
    "    \n",
    "    def predict(self, X):\n",
    "        proba = self.predict_proba(X)\n",
    "        return np.argmax(proba, axis=1)"
   ]
  },
  {
   "cell_type": "code",
   "execution_count": 48,
   "metadata": {},
   "outputs": [],
   "source": [
    "class Naive_Bayes:\n",
    "    def compute_Px1y1(self, X, y):\n",
    "        return np.sum(X[y==1] == 1) / np.sum(y==1)\n",
    "    \n",
    "    def compute_Px1y0(self, X, y):\n",
    "        return np.sum(X[y==0] == 1) / np.sum(y==0)\n",
    "    \n",
    "    def compute_Px0y0(self, X, y):\n",
    "        return np.sum(X[y==0] == 0) / np.sum(y==0)\n",
    "    \n",
    "    def compute_Px0y1(self, X, y):\n",
    "        return np.sum(X[y==1] == 0) / np.sum(y==1)\n",
    "    \n",
    "    def compute_Py1(self, y):\n",
    "        n = len(y)\n",
    "        return (1/n) * np.sum(y==1)\n",
    "    \n",
    "    def compute_Py0(self, y):\n",
    "        n = len(y)\n",
    "        return (1/n) * np.sum(y==0)\n",
    "    \n",
    "    #def compute_Pxy(self, X, idx):\n",
    "        #return np.power(self.phi, \n",
    "    \n",
    "    def fit(self, X, y):\n",
    "        d = X.shape[1]\n",
    "        PhiXy_dict = dict()\n",
    "        for idx in range(d):\n",
    "            PhiXy_dict[idx] = dict()\n",
    "            Phix1y1 = self.compute_Px1y1(X[:, idx], y)\n",
    "            Phix1y0 = self.compute_Px1y0(X[:, idx], y)\n",
    "            Phix0y0 =  self.compute_Px0y0(X[:, idx], y)\n",
    "            Phix0y1 =  self.compute_Px0y1(X[:, idx], y)\n",
    "            PhiXy_dict[idx].update({\n",
    "                            'Phix0y0':Phix0y0, \n",
    "                            'Phix0y1':Phix0y1,\n",
    "                            'Phix1y0':Phix1y0,\n",
    "                            'Phix1y1':Phix1y1\n",
    "                            })\n",
    "        print(PhiXy_dict)\n",
    "        self.phiXy = PhiXy_dict                  \n",
    "        self.Phiy1 = self.compute_Py1(y)\n",
    "        self.Phiy0 = self.compute_Py0(y)\n",
    "\n",
    "    def predict_proba(self, X):\n",
    "        Pxy0 = np.zeros(X.shape)\n",
    "        Pxy1 = np.zeros(X.shape)\n",
    "        n, d = X.shape\n",
    "        \n",
    "        for row in range(n):\n",
    "            for col in range(d):\n",
    "                if X[row, col] == 1:\n",
    "                    Pxy0[row, col] = self.phiXy[col]['Phix1y0']\n",
    "                    Pxy1[row, col] = self.phiXy[col]['Phix1y1']\n",
    "                else:\n",
    "                    Pxy0[row, col] = self.phiXy[col]['Phix0y0']\n",
    "                    Pxy1[row, col] = self.phiXy[col]['Phix0y1']\n",
    "        \n",
    "        Pxy1 = np.multiply.reduce(Pxy1, axis=1)\n",
    "        Pxy0 = np.multiply.reduce(Pxy0, axis=1)\n",
    "        \n",
    "        Py0 = Pxy0 * self.Phiy0\n",
    "        Py0 = Py0.reshape(-1, 1)\n",
    "        \n",
    "        Py1 = Pxy1 * self.Phiy1\n",
    "        Py1 = Py1.reshape(-1, 1)\n",
    "                        \n",
    "        return np.concatenate((Py0, Py1), axis=1)\n",
    "    \n",
    "    def predict(self, X):\n",
    "        proba = self.predict_proba(X)\n",
    "        return np.argmax(proba, axis=1)"
   ]
  },
  {
   "cell_type": "code",
   "execution_count": null,
   "metadata": {},
   "outputs": [],
   "source": []
  },
  {
   "cell_type": "code",
   "execution_count": null,
   "metadata": {},
   "outputs": [],
   "source": []
  },
  {
   "cell_type": "code",
   "execution_count": null,
   "metadata": {},
   "outputs": [],
   "source": []
  },
  {
   "cell_type": "code",
   "execution_count": 51,
   "metadata": {},
   "outputs": [],
   "source": [
    "class Naive_Bayes:\n",
    "    def compute_Px1y1(self, X, y):\n",
    "        return np.sum(X[y==1] == 1) / np.sum(y==1)\n",
    "    \n",
    "    def compute_Px1y0(self, X, y):\n",
    "        return np.sum(X[y==0] == 1) / np.sum(y==0)\n",
    "    \n",
    "    def compute_Px0y0(self, X, y):\n",
    "        return np.sum(X[y==0] == 0) / np.sum(y==0)\n",
    "    \n",
    "    def compute_Px0y1(self, X, y):\n",
    "        return np.sum(X[y==1] == 0) / np.sum(y==1)\n",
    "    \n",
    "    def compute_Py1(self, y):\n",
    "        n = len(y)\n",
    "        return (1/n) * np.sum(y==1)\n",
    "    \n",
    "    def compute_Py0(self, y):\n",
    "        n = len(y)\n",
    "        return (1/n) * np.sum(y==0)\n",
    "    \n",
    "    #def compute_Pxy(self, X, idx):\n",
    "        #return np.power(self.phi, \n",
    "    \n",
    "    def fit(self, X, y):\n",
    "        d = X.shape[1]\n",
    "        PhiXy_arr = []\n",
    "        for idx in range(d):\n",
    "            PhiXy = np.zeros((2,2))\n",
    "            PhiXy[1,1] = self.compute_Px1y1(X[:, idx], y)\n",
    "            PhiXy[1,0] = self.compute_Px1y0(X[:, idx], y)\n",
    "            PhiXy[0,0] =  self.compute_Px0y0(X[:, idx], y)\n",
    "            PhiXy[0,1] =  self.compute_Px0y1(X[:, idx], y)\n",
    "            \n",
    "            PhiXy_arr.append(PhiXy)\n",
    "        PhiXy_arr = np.array(PhiXy_arr)\n",
    "        #print(PhiXy_arr)\n",
    "        self.phiXy = PhiXy_arr                  \n",
    "        self.Phiy1 = self.compute_Py1(y)\n",
    "        self.Phiy0 = self.compute_Py0(y)\n",
    "\n",
    "    def predict_proba(self, X):\n",
    "        Pxy0 = np.zeros(X.shape)\n",
    "        Pxy1 = np.zeros(X.shape)\n",
    "        n, d = X.shape\n",
    "        \n",
    "        for row in range(n):\n",
    "            for col in range(d):\n",
    "                if X[row, col] == 1:\n",
    "                    Pxy0[row, col] = self.phiXy[col][1][0]\n",
    "                    Pxy1[row, col] = self.phiXy[col][1][1]\n",
    "                else:\n",
    "                    Pxy0[row, col] = self.phiXy[col][0][0]\n",
    "                    Pxy1[row, col] = self.phiXy[col][0][1]\n",
    "        \n",
    "        Pxy1_i = np.multiply.reduce(Pxy1, axis=1)\n",
    "        Pxy0_i = np.multiply.reduce(Pxy0, axis=1)\n",
    "        \n",
    "        Py0 = Pxy0_i * self.Phiy0\n",
    "        Py0 = Py0.reshape(-1, 1)\n",
    "        \n",
    "        Py1 = Pxy1_i * self.Phiy1\n",
    "        Py1 = Py1.reshape(-1, 1)\n",
    "                        \n",
    "        return np.concatenate((Py0, Py1), axis=1)\n",
    "    \n",
    "    def predict(self, X):\n",
    "        proba = self.predict_proba(X)\n",
    "        return np.argmax(proba, axis=1)"
   ]
  },
  {
   "cell_type": "code",
   "execution_count": null,
   "metadata": {},
   "outputs": [],
   "source": []
  },
  {
   "cell_type": "code",
   "execution_count": 52,
   "metadata": {},
   "outputs": [],
   "source": [
    "nb = Naive_Bayes()"
   ]
  },
  {
   "cell_type": "code",
   "execution_count": 53,
   "metadata": {},
   "outputs": [
    {
     "name": "stdout",
     "output_type": "stream",
     "text": [
      "[[[0.6667 0.4286]\n",
      "  [0.3333 0.5714]]\n",
      "\n",
      " [[0.6667 0.2857]\n",
      "  [0.3333 0.7143]]\n",
      "\n",
      " [[0.     0.4286]\n",
      "  [1.     0.5714]]\n",
      "\n",
      " [[0.6667 0.7143]\n",
      "  [0.3333 0.2857]]\n",
      "\n",
      " [[0.     0.4286]\n",
      "  [1.     0.5714]]\n",
      "\n",
      " [[0.3333 0.4286]\n",
      "  [0.6667 0.5714]]\n",
      "\n",
      " [[0.     0.4286]\n",
      "  [1.     0.5714]]\n",
      "\n",
      " [[0.6667 0.8571]\n",
      "  [0.3333 0.1429]]\n",
      "\n",
      " [[0.3333 0.2857]\n",
      "  [0.6667 0.7143]]\n",
      "\n",
      " [[0.3333 0.5714]\n",
      "  [0.6667 0.4286]]]\n"
     ]
    }
   ],
   "source": [
    "nb.fit(X, y)"
   ]
  },
  {
   "cell_type": "code",
   "execution_count": 54,
   "metadata": {},
   "outputs": [],
   "source": [
    "predictions = nb.predict(X)"
   ]
  },
  {
   "cell_type": "code",
   "execution_count": 55,
   "metadata": {},
   "outputs": [
    {
     "data": {
      "text/plain": [
       "array([1, 1, 1, 0, 1, 1, 0, 1, 1, 1])"
      ]
     },
     "execution_count": 55,
     "metadata": {},
     "output_type": "execute_result"
    }
   ],
   "source": [
    "predictions"
   ]
  },
  {
   "cell_type": "code",
   "execution_count": 56,
   "metadata": {},
   "outputs": [
    {
     "data": {
      "text/plain": [
       "0.9"
      ]
     },
     "execution_count": 56,
     "metadata": {},
     "output_type": "execute_result"
    }
   ],
   "source": [
    "np.sum(predictions == y) / len(y)"
   ]
  },
  {
   "cell_type": "code",
   "execution_count": 57,
   "metadata": {},
   "outputs": [
    {
     "data": {
      "text/plain": [
       "array([[0.0003, 0.0009],\n",
       "       [0.    , 0.0032],\n",
       "       [0.    , 0.0032],\n",
       "       [0.0044, 0.0005],\n",
       "       [0.0044, 0.0057],\n",
       "       [0.    , 0.0007],\n",
       "       [0.0022, 0.0002],\n",
       "       [0.    , 0.0004],\n",
       "       [0.    , 0.0017],\n",
       "       [0.    , 0.0013]])"
      ]
     },
     "execution_count": 57,
     "metadata": {},
     "output_type": "execute_result"
    }
   ],
   "source": [
    "nb.predict_proba(X)"
   ]
  },
  {
   "cell_type": "code",
   "execution_count": null,
   "metadata": {},
   "outputs": [],
   "source": []
  }
 ],
 "metadata": {
  "kernelspec": {
   "display_name": "Python 3",
   "language": "python",
   "name": "python3"
  },
  "language_info": {
   "codemirror_mode": {
    "name": "ipython",
    "version": 3
   },
   "file_extension": ".py",
   "mimetype": "text/x-python",
   "name": "python",
   "nbconvert_exporter": "python",
   "pygments_lexer": "ipython3",
   "version": "3.7.3"
  }
 },
 "nbformat": 4,
 "nbformat_minor": 4
}
