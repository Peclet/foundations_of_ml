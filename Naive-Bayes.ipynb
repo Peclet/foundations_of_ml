{
 "cells": [
  {
   "cell_type": "markdown",
   "metadata": {},
   "source": [
    "### Naive-Bayes Model"
   ]
  },
  {
   "cell_type": "code",
   "execution_count": 1,
   "metadata": {},
   "outputs": [],
   "source": [
    "import numpy as np\n",
    "import pandas as pd\n",
    "\n",
    "np.set_printoptions(precision=4, suppress=True)"
   ]
  },
  {
   "cell_type": "code",
   "execution_count": 132,
   "metadata": {},
   "outputs": [],
   "source": [
    "np.random.seed(4)\n",
    "\n",
    "data = np.random.randn(60,5)\n",
    "data = np.round(data, decimals=0)\n",
    "X_train = data[:50, :-1]\n",
    "y_train = data[:50, -1]\n",
    "\n",
    "X_test = data[50:, :-1]\n",
    "y_test = data[50:, -1]"
   ]
  },
  {
   "cell_type": "code",
   "execution_count": 133,
   "metadata": {},
   "outputs": [
    {
     "data": {
      "text/plain": [
       "((10, 4), (10,))"
      ]
     },
     "execution_count": 133,
     "metadata": {},
     "output_type": "execute_result"
    }
   ],
   "source": [
    "X_test.shape, y_test.shape"
   ]
  },
  {
   "cell_type": "markdown",
   "metadata": {},
   "source": [
    "Base Model"
   ]
  },
  {
   "cell_type": "code",
   "execution_count": 134,
   "metadata": {},
   "outputs": [],
   "source": [
    "from sklearn.naive_bayes import BernoulliNB\n",
    "gnb = BernoulliNB()\n",
    "y_pred = gnb.fit(X_train, y_train).predict(X_test)"
   ]
  },
  {
   "cell_type": "code",
   "execution_count": 135,
   "metadata": {},
   "outputs": [
    {
     "data": {
      "text/plain": [
       "0.4"
      ]
     },
     "execution_count": 135,
     "metadata": {},
     "output_type": "execute_result"
    }
   ],
   "source": [
    "np.sum(y_pred == y_test) / len(y_test)"
   ]
  },
  {
   "cell_type": "code",
   "execution_count": 79,
   "metadata": {},
   "outputs": [],
   "source": [
    "class Naive_Bayes:\n",
    "    \"\"\"Implements Naive-Bayes with Laplace Smoothing\"\"\"\n",
    "    def compute_Px1y1(self, X, y):\n",
    "        d = X.shape[1]\n",
    "        return (np.sum(X[y==1] == 1) + 1) / (np.sum(y==1) + d)\n",
    "    \n",
    "    def compute_Px1y0(self, X, y):\n",
    "        d = X.shape[1]\n",
    "        return (np.sum(X[y==0] == 1) + 1) / (np.sum(y==0) + d)\n",
    "    \n",
    "    def compute_Px0y0(self, X, y):\n",
    "        d = X.shape[1]\n",
    "        return (np.sum(X[y==0] == 0) + 1) / (np.sum(y==0) + d)\n",
    "    \n",
    "    def compute_Px0y1(self, X, y):\n",
    "        d = X.shape[1]\n",
    "        return (np.sum(X[y==1] == 0) + 1) / (np.sum(y==1) + d)\n",
    "    \n",
    "    def compute_Py1(self, y):\n",
    "        n = len(y)\n",
    "        return (1/n) * np.sum(y==1)\n",
    "    \n",
    "    def compute_Py0(self, y):\n",
    "        n = len(y)\n",
    "        return (1/n) * np.sum(y==0)\n",
    "    \n",
    "    #def compute_Pxy(self, X, idx):\n",
    "        #return np.power(self.phi, \n",
    "    \n",
    "    def fit(self, X, y):\n",
    "        d = X.shape[1]\n",
    "        PhiXy_dict = dict()\n",
    "        for idx in range(d):\n",
    "            PhiXy_dict[idx] = dict()\n",
    "            Phix1y1 = self.compute_Px1y1(X[:, idx], y)\n",
    "            Phix1y0 = self.compute_Px1y0(X[:, idx], y)\n",
    "            Phix0y0 =  self.compute_Px0y0(X[:, idx], y)\n",
    "            Phix0y1 =  self.compute_Px0y1(X[:, idx], y)\n",
    "            PhiXy_dict[idx].update({\n",
    "                            'Phix0y0':Phix0y0, \n",
    "                            'Phix0y1':Phix0y1,\n",
    "                            'Phix1y0':Phix1y0,\n",
    "                            'Phix1y1':Phix1y1\n",
    "                            })\n",
    "        print(PhiXy_dict)\n",
    "        self.phiXy = PhiXy_dict                  \n",
    "        self.Phiy1 = self.compute_Py1(y)\n",
    "        self.Phiy0 = self.compute_Py0(y)\n",
    "\n",
    "    def predict_proba(self, X):\n",
    "        Pxy0 = np.zeros(X.shape)\n",
    "        Pxy1 = np.zeros(X.shape)\n",
    "        n, d = X.shape\n",
    "        \n",
    "        for row in range(n):\n",
    "            for col in range(d):\n",
    "                if X[row, col] == 1:\n",
    "                    Pxy0[row, col] = self.phiXy[col]['Phix1y0']\n",
    "                    Pxy1[row, col] = self.phiXy[col]['Phix1y1']\n",
    "                else:\n",
    "                    Pxy0[row, col] = self.phiXy[col]['Phix0y0']\n",
    "                    Pxy1[row, col] = self.phiXy[col]['Phix0y1']\n",
    "        \n",
    "        Pxy1 = np.multiply.reduce(Pxy1, axis=1)\n",
    "        Pxy0 = np.multiply.reduce(Pxy0, axis=1)\n",
    "        \n",
    "        Py0 = Pxy0 * self.Phiy0\n",
    "        Py0 = Py0.reshape(-1, 1)\n",
    "        \n",
    "        Py1 = Pxy1 * self.Phiy1\n",
    "        Py1 = Py1.reshape(-1, 1)\n",
    "                        \n",
    "        return np.concatenate((Py0, Py1), axis=1)\n",
    "    \n",
    "    def predict(self, X):\n",
    "        proba = self.predict_proba(X)\n",
    "        return np.argmax(proba, axis=1)"
   ]
  },
  {
   "cell_type": "code",
   "execution_count": null,
   "metadata": {},
   "outputs": [],
   "source": []
  },
  {
   "cell_type": "code",
   "execution_count": 149,
   "metadata": {},
   "outputs": [],
   "source": [
    "class Naive_Bayes:\n",
    "    \"\"\"Implements Naive-Bayes with Laplace Smoothing\"\"\"\n",
    "    def compute_Px1y1(self, X, y):\n",
    "        return (np.sum(X[y==1] == 1) + 1) / (np.sum(y==1) + self.d)\n",
    "    \n",
    "    def compute_Px1y0(self, X, y):\n",
    "        return (np.sum(X[y==0] == 1) + 1) / (np.sum(y==0) + self.d)\n",
    "    \n",
    "    def compute_Px0y0(self, X, y):\n",
    "        return (np.sum(X[y==0] == 0) + 1) / (np.sum(y==0) + self.d)\n",
    "    \n",
    "    def compute_Px0y1(self, X, y):\n",
    "        return (np.sum(X[y==1] == 0) + 1) / (np.sum(y==1) + self.d)\n",
    "    \n",
    "    def compute_Py1(self, y):\n",
    "        n = len(y)\n",
    "        return (1/n) * np.sum(y==1)\n",
    "    \n",
    "    def compute_Py0(self, y):\n",
    "        n = len(y)\n",
    "        return (1/n) * np.sum(y==0)\n",
    "    \n",
    "    #def compute_Pxy(self, X, idx):\n",
    "        #return np.power(self.phi, \n",
    "    \n",
    "    def fit(self, X, y):\n",
    "        self.d = X.shape[1]\n",
    "        PhiXy_arr = []\n",
    "        for idx in range(self.d):\n",
    "            PhiXy = np.zeros((2,2))\n",
    "            PhiXy[1,1] = self.compute_Px1y1(X[:, idx], y)\n",
    "            PhiXy[1,0] = self.compute_Px1y0(X[:, idx], y)\n",
    "            PhiXy[0,0] =  self.compute_Px0y0(X[:, idx], y)\n",
    "            PhiXy[0,1] =  self.compute_Px0y1(X[:, idx], y)\n",
    "            \n",
    "            PhiXy_arr.append(PhiXy)\n",
    "        PhiXy_arr = np.array(PhiXy_arr)\n",
    "        #print(PhiXy_arr)\n",
    "        self.phiXy = PhiXy_arr                  \n",
    "        self.Phiy1 = self.compute_Py1(y)\n",
    "        self.Phiy0 = self.compute_Py0(y)\n",
    "\n",
    "    def predict_proba(self, X):\n",
    "        Pxy0 = np.zeros(X.shape)\n",
    "        Pxy1 = np.zeros(X.shape)\n",
    "        n, d = X.shape\n",
    "        \n",
    "        for row in range(n):\n",
    "            for col in range(d):\n",
    "                if X[row, col] == 1:\n",
    "                    Pxy0[row, col] = self.phiXy[col][1][0]\n",
    "                    Pxy1[row, col] = self.phiXy[col][1][1]\n",
    "                else:\n",
    "                    Pxy0[row, col] = self.phiXy[col][0][0]\n",
    "                    Pxy1[row, col] = self.phiXy[col][0][1]\n",
    "        \n",
    "        Pxy1_i = np.multiply.reduce(Pxy1, axis=1)\n",
    "        Pxy0_i = np.multiply.reduce(Pxy0, axis=1)\n",
    "        \n",
    "        Py0 = Pxy0_i * self.Phiy0\n",
    "        Py0 = Py0.reshape(-1, 1)\n",
    "        \n",
    "        Py1 = Pxy1_i * self.Phiy1\n",
    "        Py1 = Py1.reshape(-1, 1)\n",
    "                        \n",
    "        return np.concatenate((Py0, Py1), axis=1)\n",
    "    \n",
    "    def predict(self, X):\n",
    "        proba = self.predict_proba(X)\n",
    "        return np.argmax(proba, axis=1)"
   ]
  },
  {
   "cell_type": "code",
   "execution_count": null,
   "metadata": {},
   "outputs": [],
   "source": []
  },
  {
   "cell_type": "code",
   "execution_count": 150,
   "metadata": {},
   "outputs": [],
   "source": [
    "nb = Naive_Bayes()"
   ]
  },
  {
   "cell_type": "code",
   "execution_count": 151,
   "metadata": {},
   "outputs": [],
   "source": [
    "nb.fit(X_train, y_train)"
   ]
  },
  {
   "cell_type": "code",
   "execution_count": 152,
   "metadata": {},
   "outputs": [],
   "source": [
    "predictions = nb.predict(X_test)"
   ]
  },
  {
   "cell_type": "code",
   "execution_count": 153,
   "metadata": {},
   "outputs": [
    {
     "data": {
      "text/plain": [
       "array([0, 0, 0, 0, 0, 0, 0, 0, 1, 0])"
      ]
     },
     "execution_count": 153,
     "metadata": {},
     "output_type": "execute_result"
    }
   ],
   "source": [
    "predictions"
   ]
  },
  {
   "cell_type": "code",
   "execution_count": 154,
   "metadata": {},
   "outputs": [
    {
     "data": {
      "text/plain": [
       "0.4"
      ]
     },
     "execution_count": 154,
     "metadata": {},
     "output_type": "execute_result"
    }
   ],
   "source": [
    "np.sum(predictions == y_test) / len(y_test)"
   ]
  },
  {
   "cell_type": "code",
   "execution_count": 155,
   "metadata": {},
   "outputs": [
    {
     "data": {
      "text/plain": [
       "array([[0.0028, 0.0027],\n",
       "       [0.0061, 0.0034],\n",
       "       [0.0024, 0.0068],\n",
       "       [0.0031, 0.0009],\n",
       "       [0.0024, 0.0068]])"
      ]
     },
     "execution_count": 155,
     "metadata": {},
     "output_type": "execute_result"
    }
   ],
   "source": [
    "nb.predict_proba(X)[0:5]"
   ]
  },
  {
   "cell_type": "code",
   "execution_count": null,
   "metadata": {},
   "outputs": [],
   "source": []
  }
 ],
 "metadata": {
  "kernelspec": {
   "display_name": "Python 3",
   "language": "python",
   "name": "python3"
  },
  "language_info": {
   "codemirror_mode": {
    "name": "ipython",
    "version": 3
   },
   "file_extension": ".py",
   "mimetype": "text/x-python",
   "name": "python",
   "nbconvert_exporter": "python",
   "pygments_lexer": "ipython3",
   "version": "3.7.3"
  }
 },
 "nbformat": 4,
 "nbformat_minor": 4
}
