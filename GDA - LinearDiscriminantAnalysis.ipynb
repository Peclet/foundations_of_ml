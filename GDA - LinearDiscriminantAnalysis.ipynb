{
 "cells": [
  {
   "cell_type": "markdown",
   "metadata": {},
   "source": [
    "## Gaussian Discriminant Analysis"
   ]
  },
  {
   "cell_type": "markdown",
   "metadata": {},
   "source": [
    "with same covariance $\\Sigma_1 = \\Sigma_2 = \\Sigma_3 ... = \\Sigma_3$"
   ]
  },
  {
   "cell_type": "code",
   "execution_count": 1,
   "metadata": {},
   "outputs": [],
   "source": [
    "import pandas as pd\n",
    "import numpy as np\n",
    "\n",
    "# To reset the printoptions\n",
    "# np.set_printoptions(edgeitems=3,infstr='inf',linewidth=75, nanstr='nan', precision=8,suppress=False, threshold=1000, formatter=None)\n",
    "\n",
    "np.set_printoptions(precision=4, suppress=True)\n",
    "\n",
    "#np.set_printoptions(formatter={'float': '{: 0.3f}'.format})"
   ]
  },
  {
   "cell_type": "markdown",
   "metadata": {},
   "source": [
    "### For multi-class label y ={0, 1, 2, ...}"
   ]
  },
  {
   "cell_type": "code",
   "execution_count": 2,
   "metadata": {},
   "outputs": [
    {
     "name": "stdout",
     "output_type": "stream",
     "text": [
      "['setosa', 'versicolor', 'virginica']\n"
     ]
    }
   ],
   "source": [
    "from sklearn.datasets import load_iris\n",
    "dataset = load_iris()\n",
    "X = dataset.data\n",
    "y = dataset.target\n",
    "#y=(y>0).astype(int) \n",
    "\n",
    "target_names = list(dataset.target_names)\n",
    "print(target_names)"
   ]
  },
  {
   "cell_type": "code",
   "execution_count": 3,
   "metadata": {},
   "outputs": [],
   "source": [
    "from sklearn.model_selection import train_test_split\n",
    "X_train, X_test, y_train, y_test = train_test_split(X, y)"
   ]
  },
  {
   "cell_type": "code",
   "execution_count": 4,
   "metadata": {},
   "outputs": [
    {
     "data": {
      "text/plain": [
       "((112, 4), (38, 4), (112,), (38,))"
      ]
     },
     "execution_count": 4,
     "metadata": {},
     "output_type": "execute_result"
    }
   ],
   "source": [
    "X_train.shape, X_test.shape, y_train.shape, y_test.shape"
   ]
  },
  {
   "cell_type": "code",
   "execution_count": null,
   "metadata": {},
   "outputs": [],
   "source": []
  },
  {
   "cell_type": "code",
   "execution_count": 5,
   "metadata": {},
   "outputs": [],
   "source": [
    "class GaussianDiscAnalysis:\n",
    "    \"\"\"\n",
    "    Fits a Linear Discriminant Analysis Model for multi-class data\n",
    "    \n",
    "    lamd : Preconditioner; for matrix inversion; default:1e-10\n",
    "    \"\"\"\n",
    "    def __init__(self, lambd=1e-10):\n",
    "        self.lambd = lambd\n",
    "        \n",
    "    def compute_phi(self, y):\n",
    "        n = len(y)\n",
    "        phi = dict()\n",
    "        for idx in range(self.num_classes):\n",
    "            phi[idx] = (1/n) * np.sum(y==self.classes[idx])\n",
    "        return phi\n",
    "    \n",
    "    def compute_mu(self, X, y):\n",
    "        mu_dict = dict()\n",
    "        for idx in range(self.num_classes):\n",
    "            # Add mu for each class\n",
    "            mu_dict[idx] = np.sum(X[y==self.classes[idx]], axis=0)/ np.sum(y==self.classes[idx])\n",
    "        return mu_dict\n",
    "\n",
    "    def compute_sigma(self, X, y):\n",
    "        n = len(X)\n",
    "        #y = y.reshape(-1,1)\n",
    "        Xmu = X.copy()\n",
    "        for idx in range(self.num_classes):\n",
    "            Xmu = Xmu \\\n",
    "              - self.mu[idx]*np.ones_like(Xmu)*(y==self.classes[idx]).reshape(-1,1)\n",
    "        return (1/n) * Xmu.T@Xmu\n",
    "    \n",
    "    \n",
    "    def compute_Pxyi(self, X, idx):\n",
    "        \"\"\"Probability of X given y\"\"\"\n",
    "        d = X.shape[1]\n",
    "        sigma_inv = np.linalg.inv(self.sigma)\n",
    "        det_sigma = np.linalg.det(self.sigma)\n",
    "        #mu_i = mu(X, y, idx)\n",
    "        Pxi = (1/((2*np.pi)**(d/2))) \\\n",
    "                *(1/(det_sigma**0.5)) \\\n",
    "                * np.exp(- 0.5*np.sum(((X-self.mu[idx])@sigma_inv)*(X-self.mu[idx]), axis=1))\n",
    "    #     Pxi = np.log(1) \\\n",
    "    #             - np.log((2*np.pi)**(m/2)) \\\n",
    "    #             - np.log(np.sqrt(det_sigma)) \\\n",
    "    #             - np.sum(((X-mu_i)@sigma_inv)*(X-mu_i), axis=1)\n",
    "        return Pxi\n",
    "    \n",
    "    def fit(self, X, y):\n",
    "        \"\"\"Computes mean, covariance and proabilities of y (phi)\"\"\"\n",
    "        d = X.shape[1]\n",
    "        self.classes = np.unique(y)\n",
    "        self.num_classes = len(self.classes)\n",
    "        self.mu = self.compute_mu(X, y)\n",
    "        self.sigma = self.compute_sigma(X, y) + self.lambd*np.eye(d,d)\n",
    "        self.phi = self.compute_phi(y)\n",
    "        \n",
    "    def predict_proba(self, X):\n",
    "        \"\"\"Computes the probability of example belonging to that class\"\"\"\n",
    "        n = len(X)\n",
    "        Pyi = np.zeros((n, self.num_classes))\n",
    "        \n",
    "        for idx in range(self.num_classes):\n",
    "            #print(self.compute_Pxyi(X, idx))\n",
    "            py_i = self.compute_Pxyi(X, idx) * self.phi[idx]\n",
    "            Pyi[:, idx] = py_i\n",
    "        return Pyi\n",
    "    \n",
    "    def predict(self, X):\n",
    "        proba = self.predict_proba(X)\n",
    "        class_indexes = np.argmax(proba, axis=1)\n",
    "        \n",
    "        # Replace index with class predictions\n",
    "        vfunc = np.vectorize(lambda x: self.classes[x])\n",
    "        class_predictions = vfunc(class_indexes)\n",
    "        return class_predictions                           \n",
    "    \n",
    "    def generate_data(self, class_id, num_samples=1):\n",
    "        \"\"\"Generates new unseen dataset from a normal distribution\n",
    "            given the mean of class and covariance\n",
    "        \"\"\"\n",
    "        mean = self.mu[class_id]\n",
    "        cov = self.sigma\n",
    "        return np.random.multivariate_normal(mean, cov, num_samples)"
   ]
  },
  {
   "cell_type": "code",
   "execution_count": null,
   "metadata": {},
   "outputs": [],
   "source": []
  },
  {
   "cell_type": "code",
   "execution_count": 6,
   "metadata": {},
   "outputs": [],
   "source": [
    "GDA = GaussianDiscAnalysis()"
   ]
  },
  {
   "cell_type": "code",
   "execution_count": 7,
   "metadata": {},
   "outputs": [],
   "source": [
    "GDA.fit(X_train, y_train)"
   ]
  },
  {
   "cell_type": "code",
   "execution_count": 8,
   "metadata": {},
   "outputs": [],
   "source": [
    "predictions = GDA.predict(X_test)"
   ]
  },
  {
   "cell_type": "code",
   "execution_count": 9,
   "metadata": {},
   "outputs": [
    {
     "data": {
      "text/plain": [
       "array([1, 2, 1, 0, 0, 0, 0, 1, 2, 2, 1, 1, 0, 2, 0, 1, 1, 1, 0, 2, 0, 2,\n",
       "       1, 2, 2, 2, 2, 0, 2, 0, 1, 1, 2, 0, 2, 0, 0, 1])"
      ]
     },
     "execution_count": 9,
     "metadata": {},
     "output_type": "execute_result"
    }
   ],
   "source": [
    "predictions"
   ]
  },
  {
   "cell_type": "code",
   "execution_count": 10,
   "metadata": {},
   "outputs": [
    {
     "data": {
      "text/plain": [
       "array([[0.    , 0.6263, 0.0008],\n",
       "       [0.    , 0.    , 0.0266],\n",
       "       [0.    , 0.0497, 0.    ],\n",
       "       [0.7628, 0.    , 0.    ],\n",
       "       [0.3123, 0.    , 0.    ]])"
      ]
     },
     "execution_count": 10,
     "metadata": {},
     "output_type": "execute_result"
    }
   ],
   "source": [
    "GDA.predict_proba(X_test)[0:5]"
   ]
  },
  {
   "cell_type": "code",
   "execution_count": 11,
   "metadata": {},
   "outputs": [
    {
     "data": {
      "text/plain": [
       "0.9473684210526315"
      ]
     },
     "execution_count": 11,
     "metadata": {},
     "output_type": "execute_result"
    }
   ],
   "source": [
    "np.sum(predictions == y_test) / len(y_test)"
   ]
  },
  {
   "cell_type": "markdown",
   "metadata": {},
   "source": [
    "### Generate new data"
   ]
  },
  {
   "cell_type": "code",
   "execution_count": 12,
   "metadata": {},
   "outputs": [],
   "source": [
    "new_data = GDA.generate_data(class_id=1, num_samples=20)"
   ]
  },
  {
   "cell_type": "code",
   "execution_count": 13,
   "metadata": {},
   "outputs": [
    {
     "data": {
      "text/plain": [
       "array([[5.8489, 2.5535, 4.4301, 1.55  ],\n",
       "       [5.4008, 2.4028, 3.8874, 1.1854],\n",
       "       [6.0701, 2.6925, 4.5285, 1.3446],\n",
       "       [5.8933, 2.859 , 4.0502, 0.9833],\n",
       "       [6.2032, 2.8221, 4.532 , 1.2805],\n",
       "       [5.5509, 2.2722, 3.8771, 1.1105],\n",
       "       [6.3919, 3.0769, 4.7419, 1.3295],\n",
       "       [5.8338, 2.4944, 3.9456, 1.3381],\n",
       "       [6.716 , 3.2511, 4.6925, 1.4022],\n",
       "       [5.6894, 2.9112, 4.3122, 1.2708],\n",
       "       [6.9438, 3.1577, 5.1802, 1.6474],\n",
       "       [4.9971, 2.7765, 3.2524, 1.1737],\n",
       "       [6.2053, 2.8841, 4.7763, 1.4664],\n",
       "       [6.3208, 2.8905, 4.633 , 1.1944],\n",
       "       [6.0029, 3.373 , 4.3417, 1.6442],\n",
       "       [6.1169, 2.6744, 4.4568, 1.3319],\n",
       "       [6.5776, 2.0728, 4.3906, 1.3364],\n",
       "       [5.8233, 2.822 , 3.5306, 1.2569],\n",
       "       [5.4096, 2.9752, 3.8528, 1.3642],\n",
       "       [6.2788, 3.2446, 4.4207, 1.2901]])"
      ]
     },
     "execution_count": 13,
     "metadata": {},
     "output_type": "execute_result"
    }
   ],
   "source": [
    "new_data"
   ]
  },
  {
   "cell_type": "code",
   "execution_count": 14,
   "metadata": {},
   "outputs": [
    {
     "data": {
      "text/plain": [
       "array([1, 1, 1, 1, 1, 1, 1, 1, 1, 1, 1, 1, 1, 1, 1, 1, 1, 1, 1, 1])"
      ]
     },
     "execution_count": 14,
     "metadata": {},
     "output_type": "execute_result"
    }
   ],
   "source": [
    "GDA.predict(new_data)"
   ]
  }
 ],
 "metadata": {
  "kernelspec": {
   "display_name": "Python 3",
   "language": "python",
   "name": "python3"
  },
  "language_info": {
   "codemirror_mode": {
    "name": "ipython",
    "version": 3
   },
   "file_extension": ".py",
   "mimetype": "text/x-python",
   "name": "python",
   "nbconvert_exporter": "python",
   "pygments_lexer": "ipython3",
   "version": "3.7.3"
  }
 },
 "nbformat": 4,
 "nbformat_minor": 4
}
