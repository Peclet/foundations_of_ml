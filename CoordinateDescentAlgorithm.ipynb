{
 "cells": [
  {
   "cell_type": "code",
   "execution_count": null,
   "metadata": {},
   "outputs": [],
   "source": [
    "import numpy as np"
   ]
  },
  {
   "cell_type": "markdown",
   "metadata": {},
   "source": [
    "Given the function $\\Theta{x_1} + \\Theta{x_2} = y$, we want to fint the values of $\\Theta$ using coordinate descent algorithm. $\\Theta_0 = 2,\\Theta_1 = 3 $"
   ]
  },
  {
   "cell_type": "code",
   "execution_count": null,
   "metadata": {},
   "outputs": [],
   "source": [
    "# Generate data\n",
    "X = np.arange(30).reshape(15, 2)\n",
    "\n",
    "data = np.zeros((15,2))\n",
    "data[:, 0] = X[:, 0] * 2\n",
    "data[:, 1] = X[:, 1] * 3\n",
    "\n",
    "y = np.sum(data, axis=1).reshape(-1, 1)\n",
    "print(X.shape, y.shape)"
   ]
  },
  {
   "cell_type": "code",
   "execution_count": null,
   "metadata": {},
   "outputs": [],
   "source": [
    "class CoordinateDescent:\n",
    "    def __init__(self, tol=1e-6, alpha=0.00001, num_iters=10, verbose=False):\n",
    "        self.tol = tol\n",
    "        self.alpha = alpha\n",
    "        self.num_iters = num_iters\n",
    "    \n",
    "    def __repr__(self):\n",
    "        return f'Coordinate Descent Initiated'\n",
    "    \n",
    "    def cost(self, X, y_true, theta):\n",
    "        theta = theta.reshape(-1,1)\n",
    "        return np.mean((X@theta - y_true)**2)\n",
    "    \n",
    "    def fit(self, X, y, ):\n",
    "        theta = np.zeros((len(X[0]), 1)) #initialize theta\n",
    "        norm_global = 1\n",
    "        while norm_global >= self.tol or iters_global<=self.num_iters:\n",
    "            old_t = theta.copy()\n",
    "            for theta_idx in range(0, theta.shape[0]):\n",
    "                # Initialization\n",
    "                X_i = X.copy()\n",
    "                norm = 1\n",
    "                iter_no = 0\n",
    "\n",
    "                while norm >= self.tol: # For each run of coordinate ascent\n",
    "                    Xty = X_i.T@y\n",
    "                    XtX = (X_i.T@X_i) #.reshape(-1,1)\n",
    "                    #grad = (XtX@theta[theta_idx] - Xty).reshape(-1, 1)\n",
    "                    grad = (XtX@theta - Xty).reshape(-1, 1)\n",
    "                    old_theta = theta.copy()\n",
    "                    theta[theta_idx] = theta[theta_idx] - self.alpha*grad[theta_idx]\n",
    "                    if (verbose and iter_no % 100 == 0):\n",
    "                        print(f'iter {iter_no} - cost for theta{theta_idx} ,{self.cost(X_i, y, theta)}')\n",
    "                    iter_no+=1\n",
    "                    # compute norm\n",
    "                    norm = np.linalg.norm(old_theta - theta)\n",
    "                print(f'{theta}')\n",
    "            norm_global = np.linalg.norm(old_t - theta)\n",
    "            print(f'Cost of theta for this coordinate run: {self.cost(X, y, theta)}')\n",
    "        return theta"
   ]
  },
  {
   "cell_type": "code",
   "execution_count": null,
   "metadata": {},
   "outputs": [],
   "source": [
    "cd = CoordinateDescent()\n",
    "cd"
   ]
  },
  {
   "cell_type": "code",
   "execution_count": null,
   "metadata": {},
   "outputs": [],
   "source": [
    "cd.fit(X, y)"
   ]
  },
  {
   "cell_type": "code",
   "execution_count": null,
   "metadata": {},
   "outputs": [],
   "source": [
    "predictions = cd.predict(X)\n",
    "predictions[0:5]"
   ]
  },
  {
   "cell_type": "code",
   "execution_count": null,
   "metadata": {},
   "outputs": [],
   "source": [
    "cost_val = cd.cost(X, y, theta)\n",
    "cost_val"
   ]
  },
  {
   "cell_type": "code",
   "execution_count": null,
   "metadata": {},
   "outputs": [],
   "source": []
  }
 ],
 "metadata": {
  "kernelspec": {
   "display_name": "Python 3",
   "language": "python",
   "name": "python3"
  },
  "language_info": {
   "codemirror_mode": {
    "name": "ipython",
    "version": 3
   },
   "file_extension": ".py",
   "mimetype": "text/x-python",
   "name": "python",
   "nbconvert_exporter": "python",
   "pygments_lexer": "ipython3",
   "version": "3.7.3"
  }
 },
 "nbformat": 4,
 "nbformat_minor": 4
}
