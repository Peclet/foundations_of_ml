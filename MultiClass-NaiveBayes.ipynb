{
 "cells": [
  {
   "cell_type": "markdown",
   "metadata": {},
   "source": [
    "### Bernoulli Naive-Bayes Model"
   ]
  },
  {
   "cell_type": "code",
   "execution_count": 1,
   "metadata": {},
   "outputs": [],
   "source": [
    "import numpy as np\n",
    "import pandas as pd\n",
    "\n",
    "np.set_printoptions(precision=4, suppress=True)"
   ]
  },
  {
   "cell_type": "code",
   "execution_count": 2,
   "metadata": {},
   "outputs": [],
   "source": [
    "np.random.seed(0)\n",
    "\n",
    "data = np.random.rand(200,5)\n",
    "data = np.round(data, decimals=0)\n",
    "\n",
    "dataX = data[:, :-1]\n",
    "datay = data[:, -1] * np.random.randint(1,4, size=(len(data), 1))\n",
    "\n",
    "X_train = dataX[:150, :-1]\n",
    "y_train = datay[:150, -1]\n",
    "\n",
    "X_test = dataX[150:, :-1]\n",
    "y_test = datay[150:, -1]"
   ]
  },
  {
   "cell_type": "code",
   "execution_count": 3,
   "metadata": {},
   "outputs": [
    {
     "data": {
      "text/plain": [
       "((50, 3), (50,))"
      ]
     },
     "execution_count": 3,
     "metadata": {},
     "output_type": "execute_result"
    }
   ],
   "source": [
    "X_test.shape, y_test.shape"
   ]
  },
  {
   "cell_type": "markdown",
   "metadata": {},
   "source": [
    "Base Model"
   ]
  },
  {
   "cell_type": "code",
   "execution_count": 4,
   "metadata": {},
   "outputs": [],
   "source": [
    "from sklearn.naive_bayes import BernoulliNB\n",
    "gnb = BernoulliNB()\n",
    "y_pred = gnb.fit(X_train, y_train).predict(X_test)"
   ]
  },
  {
   "cell_type": "code",
   "execution_count": 5,
   "metadata": {},
   "outputs": [
    {
     "data": {
      "text/plain": [
       "0.38"
      ]
     },
     "execution_count": 5,
     "metadata": {},
     "output_type": "execute_result"
    }
   ],
   "source": [
    "np.sum(y_pred == y_test) / len(y_test)"
   ]
  },
  {
   "cell_type": "code",
   "execution_count": 6,
   "metadata": {},
   "outputs": [],
   "source": [
    "class Naive_Bayes:\n",
    "    \"\"\"Implements Bernoulli Naive-Bayes with Laplace Smoothing for multi-class target\"\"\"\n",
    "    def compute_Px1yi(self, X, y, class_no):\n",
    "        return (np.sum(X[y==class_no], axis=0) + 1) / (np.sum(y==class_no) + self.no_feat)\n",
    "    \n",
    "    def compute_Px0yi(self, X, y, class_no):\n",
    "        return 1 - self.compute_Px1yi(X, y, class_no)\n",
    "    \n",
    "    def compute_Pyi(self, y, class_no):\n",
    "        n = len(y)\n",
    "        return (1/n) * np.sum(y==class_no)\n",
    "    \n",
    "    def fit(self, X, y):\n",
    "        self.no_feat = X.shape[1]\n",
    "        self.classes = (np.unique(y)).astype(int)\n",
    "        self.no_classes = len(self.classes)\n",
    "        \n",
    "        # compute Px=i|y=i\n",
    "        self.PhiXYd = dict()\n",
    "        for class_id in range(self.no_classes):\n",
    "            PhiX1yi = self.compute_Px1yi(X, y, self.classes[class_id])\n",
    "            PhiX0yi = self.compute_Px0yi(X, y, self.classes[class_id])\n",
    "            \n",
    "            self.PhiXYd['PhiX1y'+str(class_id)] = PhiX1yi\n",
    "            self.PhiXYd['PhiX0y'+str(class_id)] = PhiX0yi\n",
    "        \n",
    "        # compute Py=i\n",
    "        self.Phiyi = dict()\n",
    "        for class_id in range(self.no_classes):\n",
    "            Phiyi = self.compute_Pyi(y, self.classes[class_id])\n",
    "            \n",
    "            self.Phiyi['Phiy' + str(class_id)] = Phiyi\n",
    "\n",
    "    def predict_proba(self, X):\n",
    "        n, d = X.shape\n",
    "\n",
    "        assert(d == self.no_feat)\n",
    "        \n",
    "        # Initialize final Probablities of X belonging to the class\n",
    "        self.Pyj = np.empty((n, self.no_classes)) \n",
    "\n",
    "        for class_id in range(self.no_classes):\n",
    "            Pxyj_i = np.zeros(X.shape)\n",
    "            for col in range(d):\n",
    "                np.put(Pxyj_i[:, col], np.where(X[:, col] == 1), self.PhiXYd['PhiX1y'+str(class_id)][col])\n",
    "                np.put(Pxyj_i[:, col], np.where(X[:, col] == 0), self.PhiXYd['PhiX0y'+str(class_id)][col])\n",
    "            \n",
    "            # Compute Px|y\n",
    "            Pxyj = np.multiply.reduce(Pxyj_i, axis=1)\n",
    "            \n",
    "            # Compute Py|x = Px|y * Py\n",
    "            Pyj = Pxyj * self.Phiyi['Phiy' + str(class_id)]\n",
    "            \n",
    "            self.Pyj[:, class_id] = Pyj\n",
    "        return self.Pyj\n",
    "    \n",
    "    def predict(self, X):\n",
    "        proba = self.predict_proba(X)\n",
    "        class_indexes = np.argmax(proba, axis=1)\n",
    "        \n",
    "        # Replace index with class predictions\n",
    "        vfunc = np.vectorize(lambda x: self.classes[x])\n",
    "        class_predictions = vfunc(class_indexes)\n",
    "        return class_predictions\n",
    "    \n",
    "    def generate_new_feature(self):\n",
    "        \"Source: https://www.quora.com/How-do-I-generate-data-using-a-Naive-Bayes-model\"\n",
    "        pass           \n",
    "    "
   ]
  },
  {
   "cell_type": "code",
   "execution_count": 7,
   "metadata": {},
   "outputs": [],
   "source": [
    "nb = Naive_Bayes()"
   ]
  },
  {
   "cell_type": "code",
   "execution_count": 8,
   "metadata": {},
   "outputs": [],
   "source": [
    "nb.fit(X_train, y_train)"
   ]
  },
  {
   "cell_type": "code",
   "execution_count": 9,
   "metadata": {},
   "outputs": [],
   "source": [
    "predictions = nb.predict(X_test)"
   ]
  },
  {
   "cell_type": "code",
   "execution_count": 10,
   "metadata": {},
   "outputs": [
    {
     "data": {
      "text/plain": [
       "array([1, 2, 2, 1, 2, 3, 3, 3, 2, 2, 1, 1, 1, 3, 3, 2, 2, 1, 3, 1, 1, 2,\n",
       "       1, 2, 2, 3, 2, 1, 3, 1, 2, 2, 2, 2, 1, 1, 2, 2, 3, 1, 1, 3, 1, 3,\n",
       "       2, 1, 1, 1, 3, 1])"
      ]
     },
     "execution_count": 10,
     "metadata": {},
     "output_type": "execute_result"
    }
   ],
   "source": [
    "predictions"
   ]
  },
  {
   "cell_type": "code",
   "execution_count": 11,
   "metadata": {},
   "outputs": [
    {
     "data": {
      "text/plain": [
       "0.38"
      ]
     },
     "execution_count": 11,
     "metadata": {},
     "output_type": "execute_result"
    }
   ],
   "source": [
    "np.sum(predictions == y_test) / len(y_test)"
   ]
  },
  {
   "cell_type": "code",
   "execution_count": 12,
   "metadata": {},
   "outputs": [
    {
     "data": {
      "text/plain": [
       "array([[0.0589, 0.0298, 0.0434],\n",
       "       [0.0368, 0.0454, 0.0322],\n",
       "       [0.0368, 0.0454, 0.0322],\n",
       "       [0.045 , 0.0324, 0.0264],\n",
       "       [0.0368, 0.0454, 0.0322]])"
      ]
     },
     "execution_count": 12,
     "metadata": {},
     "output_type": "execute_result"
    }
   ],
   "source": [
    "nb.predict_proba(X_test)[0:5]"
   ]
  },
  {
   "cell_type": "code",
   "execution_count": null,
   "metadata": {},
   "outputs": [],
   "source": []
  }
 ],
 "metadata": {
  "kernelspec": {
   "display_name": "Python 3",
   "language": "python",
   "name": "python3"
  },
  "language_info": {
   "codemirror_mode": {
    "name": "ipython",
    "version": 3
   },
   "file_extension": ".py",
   "mimetype": "text/x-python",
   "name": "python",
   "nbconvert_exporter": "python",
   "pygments_lexer": "ipython3",
   "version": "3.7.3"
  }
 },
 "nbformat": 4,
 "nbformat_minor": 4
}
